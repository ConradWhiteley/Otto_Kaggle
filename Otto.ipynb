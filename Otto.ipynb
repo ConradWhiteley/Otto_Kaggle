{
 "cells": [
  {
   "cell_type": "code",
   "execution_count": 24,
   "metadata": {
    "scrolled": true
   },
   "outputs": [],
   "source": [
    "import numpy as np\n",
    "import pandas as pd\n",
    "import sklearn\n",
    "from matplotlib import pyplot as plt\n",
    "from sklearn import preprocessing\n",
    "from sklearn.ensemble import RandomForestClassifier\n",
    "from sklearn.model_selection import KFold\n",
    "import xgboost as xgb\n",
    "import lightgbm as lgbm"
   ]
  },
  {
   "cell_type": "code",
   "execution_count": 25,
   "metadata": {},
   "outputs": [],
   "source": [
    "data=pd.read_csv('dataset/train.csv')\n",
    "data_np=np.array(data)\n",
    "X=data_np[:,1:-1]\n",
    "y_pre=data_np[:,-1]"
   ]
  },
  {
   "cell_type": "code",
   "execution_count": 45,
   "metadata": {},
   "outputs": [],
   "source": [
    "le = preprocessing.LabelEncoder()\n",
    "le.fit(np.unique(y_pre))\n",
    "y=le.transform(y_pre)\n",
    "\n",
    "X_train, X_test, y_train, y_test = sklearn.model_selection.train_test_split(X, y, test_size=0.2, random_state=42)"
   ]
  },
  {
   "cell_type": "code",
   "execution_count": 42,
   "metadata": {},
   "outputs": [
    {
     "data": {
      "text/plain": [
       "(61878, 94)"
      ]
     },
     "execution_count": 42,
     "metadata": {},
     "output_type": "execute_result"
    }
   ],
   "source": [
    "data_np[:,1:].shape"
   ]
  },
  {
   "cell_type": "code",
   "execution_count": 44,
   "metadata": {},
   "outputs": [
    {
     "name": "stderr",
     "output_type": "stream",
     "text": [
      "/Users/petar.hristov/anaconda3/lib/python3.7/site-packages/sklearn/linear_model/_logistic.py:940: ConvergenceWarning: lbfgs failed to converge (status=1):\n",
      "STOP: TOTAL NO. of ITERATIONS REACHED LIMIT.\n",
      "\n",
      "Increase the number of iterations (max_iter) or scale the data as shown in:\n",
      "    https://scikit-learn.org/stable/modules/preprocessing.html\n",
      "Please also refer to the documentation for alternative solver options:\n",
      "    https://scikit-learn.org/stable/modules/linear_model.html#logistic-regression\n",
      "  extra_warning_msg=_LOGISTIC_SOLVER_CONVERGENCE_MSG)\n"
     ]
    },
    {
     "ename": "ValueError",
     "evalue": "Found input variables with inconsistent numbers of samples: [49502, 12376]",
     "output_type": "error",
     "traceback": [
      "\u001b[0;31m---------------------------------------------------------------------------\u001b[0m",
      "\u001b[0;31mValueError\u001b[0m                                Traceback (most recent call last)",
      "\u001b[0;32m<ipython-input-44-88e0ab1a3cc2>\u001b[0m in \u001b[0;36m<module>\u001b[0;34m\u001b[0m\n\u001b[1;32m     10\u001b[0m \u001b[0;34m\u001b[0m\u001b[0m\n\u001b[1;32m     11\u001b[0m     \u001b[0mclf_logistic\u001b[0m \u001b[0;34m=\u001b[0m \u001b[0msklearn\u001b[0m\u001b[0;34m.\u001b[0m\u001b[0mlinear_model\u001b[0m\u001b[0;34m.\u001b[0m\u001b[0mLogisticRegression\u001b[0m\u001b[0;34m(\u001b[0m\u001b[0mrandom_state\u001b[0m\u001b[0;34m=\u001b[0m\u001b[0;36m0\u001b[0m\u001b[0;34m)\u001b[0m\u001b[0;34m.\u001b[0m\u001b[0mfit\u001b[0m\u001b[0;34m(\u001b[0m\u001b[0mX_train\u001b[0m\u001b[0;34m,\u001b[0m\u001b[0my_train\u001b[0m\u001b[0;34m)\u001b[0m\u001b[0;34m\u001b[0m\u001b[0;34m\u001b[0m\u001b[0m\n\u001b[0;32m---> 12\u001b[0;31m     \u001b[0mlogistic_accuracy\u001b[0m \u001b[0;34m=\u001b[0m \u001b[0mclf_logistic\u001b[0m\u001b[0;34m.\u001b[0m\u001b[0mscore\u001b[0m\u001b[0;34m(\u001b[0m\u001b[0mX_test\u001b[0m\u001b[0;34m,\u001b[0m\u001b[0my_test\u001b[0m\u001b[0;34m)\u001b[0m\u001b[0;34m\u001b[0m\u001b[0;34m\u001b[0m\u001b[0m\n\u001b[0m\u001b[1;32m     13\u001b[0m     \u001b[0mlogistic_log_loss\u001b[0m \u001b[0;34m=\u001b[0m \u001b[0msklearn\u001b[0m\u001b[0;34m.\u001b[0m\u001b[0mmetrics\u001b[0m\u001b[0;34m.\u001b[0m\u001b[0mlog_loss\u001b[0m\u001b[0;34m(\u001b[0m\u001b[0my_test\u001b[0m\u001b[0;34m,\u001b[0m \u001b[0mclf_logistic\u001b[0m\u001b[0;34m.\u001b[0m\u001b[0mpredict_proba\u001b[0m\u001b[0;34m(\u001b[0m\u001b[0mX_test\u001b[0m\u001b[0;34m)\u001b[0m\u001b[0;34m)\u001b[0m\u001b[0;34m\u001b[0m\u001b[0;34m\u001b[0m\u001b[0m\n\u001b[1;32m     14\u001b[0m     \u001b[0mprint\u001b[0m\u001b[0;34m(\u001b[0m\u001b[0;34m'Logloss is '\u001b[0m\u001b[0;34m,\u001b[0m\u001b[0mlogistic_log_loss\u001b[0m\u001b[0;34m)\u001b[0m\u001b[0;34m\u001b[0m\u001b[0;34m\u001b[0m\u001b[0m\n",
      "\u001b[0;32m~/anaconda3/lib/python3.7/site-packages/sklearn/base.py\u001b[0m in \u001b[0;36mscore\u001b[0;34m(self, X, y, sample_weight)\u001b[0m\n\u001b[1;32m    367\u001b[0m         \"\"\"\n\u001b[1;32m    368\u001b[0m         \u001b[0;32mfrom\u001b[0m \u001b[0;34m.\u001b[0m\u001b[0mmetrics\u001b[0m \u001b[0;32mimport\u001b[0m \u001b[0maccuracy_score\u001b[0m\u001b[0;34m\u001b[0m\u001b[0;34m\u001b[0m\u001b[0m\n\u001b[0;32m--> 369\u001b[0;31m         \u001b[0;32mreturn\u001b[0m \u001b[0maccuracy_score\u001b[0m\u001b[0;34m(\u001b[0m\u001b[0my\u001b[0m\u001b[0;34m,\u001b[0m \u001b[0mself\u001b[0m\u001b[0;34m.\u001b[0m\u001b[0mpredict\u001b[0m\u001b[0;34m(\u001b[0m\u001b[0mX\u001b[0m\u001b[0;34m)\u001b[0m\u001b[0;34m,\u001b[0m \u001b[0msample_weight\u001b[0m\u001b[0;34m=\u001b[0m\u001b[0msample_weight\u001b[0m\u001b[0;34m)\u001b[0m\u001b[0;34m\u001b[0m\u001b[0;34m\u001b[0m\u001b[0m\n\u001b[0m\u001b[1;32m    370\u001b[0m \u001b[0;34m\u001b[0m\u001b[0m\n\u001b[1;32m    371\u001b[0m \u001b[0;34m\u001b[0m\u001b[0m\n",
      "\u001b[0;32m~/anaconda3/lib/python3.7/site-packages/sklearn/metrics/_classification.py\u001b[0m in \u001b[0;36maccuracy_score\u001b[0;34m(y_true, y_pred, normalize, sample_weight)\u001b[0m\n\u001b[1;32m    183\u001b[0m \u001b[0;34m\u001b[0m\u001b[0m\n\u001b[1;32m    184\u001b[0m     \u001b[0;31m# Compute accuracy for each possible representation\u001b[0m\u001b[0;34m\u001b[0m\u001b[0;34m\u001b[0m\u001b[0;34m\u001b[0m\u001b[0m\n\u001b[0;32m--> 185\u001b[0;31m     \u001b[0my_type\u001b[0m\u001b[0;34m,\u001b[0m \u001b[0my_true\u001b[0m\u001b[0;34m,\u001b[0m \u001b[0my_pred\u001b[0m \u001b[0;34m=\u001b[0m \u001b[0m_check_targets\u001b[0m\u001b[0;34m(\u001b[0m\u001b[0my_true\u001b[0m\u001b[0;34m,\u001b[0m \u001b[0my_pred\u001b[0m\u001b[0;34m)\u001b[0m\u001b[0;34m\u001b[0m\u001b[0;34m\u001b[0m\u001b[0m\n\u001b[0m\u001b[1;32m    186\u001b[0m     \u001b[0mcheck_consistent_length\u001b[0m\u001b[0;34m(\u001b[0m\u001b[0my_true\u001b[0m\u001b[0;34m,\u001b[0m \u001b[0my_pred\u001b[0m\u001b[0;34m,\u001b[0m \u001b[0msample_weight\u001b[0m\u001b[0;34m)\u001b[0m\u001b[0;34m\u001b[0m\u001b[0;34m\u001b[0m\u001b[0m\n\u001b[1;32m    187\u001b[0m     \u001b[0;32mif\u001b[0m \u001b[0my_type\u001b[0m\u001b[0;34m.\u001b[0m\u001b[0mstartswith\u001b[0m\u001b[0;34m(\u001b[0m\u001b[0;34m'multilabel'\u001b[0m\u001b[0;34m)\u001b[0m\u001b[0;34m:\u001b[0m\u001b[0;34m\u001b[0m\u001b[0;34m\u001b[0m\u001b[0m\n",
      "\u001b[0;32m~/anaconda3/lib/python3.7/site-packages/sklearn/metrics/_classification.py\u001b[0m in \u001b[0;36m_check_targets\u001b[0;34m(y_true, y_pred)\u001b[0m\n\u001b[1;32m     78\u001b[0m     \u001b[0my_pred\u001b[0m \u001b[0;34m:\u001b[0m \u001b[0marray\u001b[0m \u001b[0;32mor\u001b[0m \u001b[0mindicator\u001b[0m \u001b[0mmatrix\u001b[0m\u001b[0;34m\u001b[0m\u001b[0;34m\u001b[0m\u001b[0m\n\u001b[1;32m     79\u001b[0m     \"\"\"\n\u001b[0;32m---> 80\u001b[0;31m     \u001b[0mcheck_consistent_length\u001b[0m\u001b[0;34m(\u001b[0m\u001b[0my_true\u001b[0m\u001b[0;34m,\u001b[0m \u001b[0my_pred\u001b[0m\u001b[0;34m)\u001b[0m\u001b[0;34m\u001b[0m\u001b[0;34m\u001b[0m\u001b[0m\n\u001b[0m\u001b[1;32m     81\u001b[0m     \u001b[0mtype_true\u001b[0m \u001b[0;34m=\u001b[0m \u001b[0mtype_of_target\u001b[0m\u001b[0;34m(\u001b[0m\u001b[0my_true\u001b[0m\u001b[0;34m)\u001b[0m\u001b[0;34m\u001b[0m\u001b[0;34m\u001b[0m\u001b[0m\n\u001b[1;32m     82\u001b[0m     \u001b[0mtype_pred\u001b[0m \u001b[0;34m=\u001b[0m \u001b[0mtype_of_target\u001b[0m\u001b[0;34m(\u001b[0m\u001b[0my_pred\u001b[0m\u001b[0;34m)\u001b[0m\u001b[0;34m\u001b[0m\u001b[0;34m\u001b[0m\u001b[0m\n",
      "\u001b[0;32m~/anaconda3/lib/python3.7/site-packages/sklearn/utils/validation.py\u001b[0m in \u001b[0;36mcheck_consistent_length\u001b[0;34m(*arrays)\u001b[0m\n\u001b[1;32m    210\u001b[0m     \u001b[0;32mif\u001b[0m \u001b[0mlen\u001b[0m\u001b[0;34m(\u001b[0m\u001b[0muniques\u001b[0m\u001b[0;34m)\u001b[0m \u001b[0;34m>\u001b[0m \u001b[0;36m1\u001b[0m\u001b[0;34m:\u001b[0m\u001b[0;34m\u001b[0m\u001b[0;34m\u001b[0m\u001b[0m\n\u001b[1;32m    211\u001b[0m         raise ValueError(\"Found input variables with inconsistent numbers of\"\n\u001b[0;32m--> 212\u001b[0;31m                          \" samples: %r\" % [int(l) for l in lengths])\n\u001b[0m\u001b[1;32m    213\u001b[0m \u001b[0;34m\u001b[0m\u001b[0m\n\u001b[1;32m    214\u001b[0m \u001b[0;34m\u001b[0m\u001b[0m\n",
      "\u001b[0;31mValueError\u001b[0m: Found input variables with inconsistent numbers of samples: [49502, 12376]"
     ]
    }
   ],
   "source": [
    "# #K-fold cross validation split\n",
    "# X,y = sklearn.utils.shuffle(X,y)\n",
    "# kf = KFold(5,shuffle=False)\n",
    "# kf.get_n_splits(X)\n",
    "\n",
    "# list_prob=[]\n",
    "# for train_index,test_index in kf.split(X):\n",
    "#     X_train, X_test = X[train_index], X[test_index]\n",
    "#     y_train, y_test = y[train_index], X[train_index]\n",
    "    \n",
    "#     clf_logistic = sklearn.linear_model.LogisticRegression(random_state=0).fit(X_train,y_train)\n",
    "#     logistic_accuracy = clf_logistic.score(X_test,y_test)\n",
    "#     logistic_log_loss = sklearn.metrics.log_loss(y_test, clf_logistic.predict_proba(X_test))\n",
    "#     print('Logloss is ',logistic_log_loss)\n",
    "#     list_prob.append(logistic_log_loss)\n",
    "    \n",
    "    "
   ]
  },
  {
   "cell_type": "code",
   "execution_count": 4,
   "metadata": {},
   "outputs": [
    {
     "data": {
      "text/plain": [
       "(array([ 1530., 12944.,  6443.,  2153.,     0.,  2174., 11251.,  2287.,\n",
       "         6790.,  3930.]),\n",
       " array([0. , 0.8, 1.6, 2.4, 3.2, 4. , 4.8, 5.6, 6.4, 7.2, 8. ]),\n",
       " <a list of 10 Patch objects>)"
      ]
     },
     "execution_count": 4,
     "metadata": {},
     "output_type": "execute_result"
    },
    {
     "data": {
      "image/png": "[encoded data removed]",
      "text/plain": [
       "<Figure size 432x288 with 1 Axes>"
      ]
     },
     "metadata": {
      "needs_background": "light"
     },
     "output_type": "display_data"
    }
   ],
   "source": [
    "plt.hist(y_train)"
   ]
  },
  {
   "cell_type": "markdown",
   "metadata": {},
   "source": [
    "# Random forest"
   ]
  },
  {
   "cell_type": "code",
   "execution_count": 5,
   "metadata": {
    "scrolled": true
   },
   "outputs": [
    {
     "name": "stderr",
     "output_type": "stream",
     "text": [
      "/Users/petar.hristov/anaconda3/lib/python3.7/site-packages/sklearn/ensemble/forest.py:245: FutureWarning: The default value of n_estimators will change from 10 in version 0.20 to 100 in 0.22.\n",
      "  \"10 in version 0.20 to 100 in 0.22.\", FutureWarning)\n"
     ]
    },
    {
     "data": {
      "text/plain": [
       "0.7678571428571429"
      ]
     },
     "execution_count": 5,
     "metadata": {},
     "output_type": "execute_result"
    }
   ],
   "source": [
    "clf = RandomForestClassifier(max_depth=10, random_state=2)\n",
    "clf.fit(X_train, y_train)\n",
    "clf.score(X_test,y_test)"
   ]
  },
  {
   "cell_type": "code",
   "execution_count": 6,
   "metadata": {},
   "outputs": [
    {
     "data": {
      "text/plain": [
       "array([[0.06490965, 0.25501547, 0.14907195, ..., 0.08376932, 0.06689077,\n",
       "        0.04719386],\n",
       "       [0.0268758 , 0.14162775, 0.05081799, ..., 0.4892125 , 0.13190942,\n",
       "        0.10729225],\n",
       "       [0.02533418, 0.01191287, 0.00804023, ..., 0.01963451, 0.02207811,\n",
       "        0.01915134],\n",
       "       ...,\n",
       "       [0.3       , 0.        , 0.        , ..., 0.        , 0.1       ,\n",
       "        0.525     ],\n",
       "       [0.00633374, 0.73957007, 0.1678721 , ..., 0.00810614, 0.0087625 ,\n",
       "        0.00909745],\n",
       "       [0.01575013, 0.03273587, 0.01683241, ..., 0.50297848, 0.29587521,\n",
       "        0.01574389]])"
      ]
     },
     "execution_count": 6,
     "metadata": {},
     "output_type": "execute_result"
    }
   ],
   "source": [
    "clf.predict_proba(X_test)"
   ]
  },
  {
   "cell_type": "code",
   "execution_count": 7,
   "metadata": {},
   "outputs": [
    {
     "data": {
      "text/plain": [
       "0.7396735462971555"
      ]
     },
     "execution_count": 7,
     "metadata": {},
     "output_type": "execute_result"
    }
   ],
   "source": [
    "sklearn.metrics.log_loss(y_test, clf.predict_proba(X_test))"
   ]
  },
  {
   "cell_type": "markdown",
   "metadata": {},
   "source": [
    "# Logistic regression"
   ]
  },
  {
   "cell_type": "code",
   "execution_count": 8,
   "metadata": {},
   "outputs": [
    {
     "name": "stderr",
     "output_type": "stream",
     "text": [
      "/Users/petar.hristov/anaconda3/lib/python3.7/site-packages/sklearn/linear_model/logistic.py:432: FutureWarning: Default solver will be changed to 'lbfgs' in 0.22. Specify a solver to silence this warning.\n",
      "  FutureWarning)\n",
      "/Users/petar.hristov/anaconda3/lib/python3.7/site-packages/sklearn/linear_model/logistic.py:469: FutureWarning: Default multi_class will be changed to 'auto' in 0.22. Specify the multi_class option to silence this warning.\n",
      "  \"this warning.\", FutureWarning)\n"
     ]
    },
    {
     "name": "stdout",
     "output_type": "stream",
     "text": [
      "Logloss is  0.6699873045491103\n"
     ]
    }
   ],
   "source": [
    "clf_logistic = sklearn.linear_model.LogisticRegression(random_state=0).fit(X_train,y_train)\n",
    "logistic_accuracy = clf_logistic.score(X_test,y_test)\n",
    "logistic_log_loss = sklearn.metrics.log_loss(y_test, clf_logistic.predict_proba(X_test))\n",
    "print('Logloss is ',logistic_log_loss)"
   ]
  },
  {
   "cell_type": "markdown",
   "metadata": {},
   "source": [
    "# KNN"
   ]
  },
  {
   "cell_type": "code",
   "execution_count": 9,
   "metadata": {},
   "outputs": [
    {
     "name": "stdout",
     "output_type": "stream",
     "text": [
      "Logloss is  2.3086776076579794\n"
     ]
    }
   ],
   "source": [
    "clf_knn = sklearn.neighbors.KNeighborsClassifier(n_neighbors=5).fit(X_train,y_train)\n",
    "knn_accuracy = clf_knn.score(X_test,y_test)\n",
    "knn_log_loss = sklearn.metrics.log_loss(y_test, clf_knn.predict_proba(X_test))\n",
    "print('Logloss is ',knn_log_loss)"
   ]
  },
  {
   "cell_type": "code",
   "execution_count": 10,
   "metadata": {},
   "outputs": [
    {
     "data": {
      "text/plain": [
       "0.7807045895281189"
      ]
     },
     "execution_count": 10,
     "metadata": {},
     "output_type": "execute_result"
    }
   ],
   "source": [
    "knn_accuracy"
   ]
  },
  {
   "cell_type": "markdown",
   "metadata": {},
   "source": [
    "# SVM Linear"
   ]
  },
  {
   "cell_type": "code",
   "execution_count": 38,
   "metadata": {
    "scrolled": true
   },
   "outputs": [],
   "source": [
    "clf_svm = sklearn.svm.SVC(probability=True,kernel='linear').fit(X_train,y_train)\n",
    "svm_accuracy = clf_svm.score(X_test,y_test)\n",
    "svm_log_loss = sklearn.metrics.log_loss(y_test, clf_svm.predict_proba(X_test))"
   ]
  },
  {
   "cell_type": "code",
   "execution_count": 39,
   "metadata": {},
   "outputs": [
    {
     "data": {
      "text/plain": [
       "0.6298349235521797"
      ]
     },
     "execution_count": 39,
     "metadata": {},
     "output_type": "execute_result"
    }
   ],
   "source": [
    "sklearn.metrics.log_loss(y_test, clf_svm.predict_proba(X_test))"
   ]
  },
  {
   "cell_type": "markdown",
   "metadata": {},
   "source": [
    "# SVM Radial"
   ]
  },
  {
   "cell_type": "code",
   "execution_count": null,
   "metadata": {},
   "outputs": [],
   "source": []
  },
  {
   "cell_type": "markdown",
   "metadata": {},
   "source": [
    "# XGBoost"
   ]
  },
  {
   "cell_type": "code",
   "execution_count": 30,
   "metadata": {},
   "outputs": [],
   "source": [
    "dtrain=xgb.DMatrix(X_train,label=y_train)\n",
    "dtest=xgb.DMatrix(X_test,label=y_test)"
   ]
  },
  {
   "cell_type": "code",
   "execution_count": 34,
   "metadata": {},
   "outputs": [
    {
     "data": {
      "text/plain": [
       "0.569466574998273"
      ]
     },
     "execution_count": 34,
     "metadata": {},
     "output_type": "execute_result"
    }
   ],
   "source": [
    "param = {'max_depth':8, 'eta':1, 'objective':'multi:softprob', 'num_class': 9}\n",
    "num_round = 40\n",
    "bst = xgb.train(param, dtrain, num_round)\n",
    "#sklearn.metrics.accuracy_score(y_test,bst.predict(dtest))\n",
    "sklearn.metrics.log_loss(y_test, bst.predict(dtest))"
   ]
  },
  {
   "cell_type": "markdown",
   "metadata": {},
   "source": [
    "# Stack Different Models\n",
    "\n",
    "Try out first with logistic, random forest and XGboost."
   ]
  },
  {
   "cell_type": "code",
   "execution_count": 132,
   "metadata": {},
   "outputs": [],
   "source": [
    "#this time split data in 3 chunks - train, stack train, test (60%, 20%, 20%)\n",
    "data=pd.read_csv('train.csv')\n",
    "data_np=np.array(data)\n",
    "X=data_np[:,1:-1]\n",
    "y_pre=data_np[:,-1]\n",
    "\n",
    "le = preprocessing.LabelEncoder()\n",
    "le.fit(np.unique(y_pre))\n",
    "y=le.transform(y_pre)\n",
    "\n",
    "#get the first split\n",
    "X_temp, X_test, y_temp, y_test = sklearn.model_selection.train_test_split(X, y, test_size=0.2, random_state=41)\n",
    "\n",
    "X_train, X_stack, y_train, y_stack = sklearn.model_selection.train_test_split(X_temp,y_temp, test_size=0.25, random_state=41)"
   ]
  },
  {
   "cell_type": "markdown",
   "metadata": {},
   "source": [
    "Get some models trained on the train set and then make predictions both for stack and test set"
   ]
  },
  {
   "cell_type": "code",
   "execution_count": 138,
   "metadata": {},
   "outputs": [
    {
     "name": "stdout",
     "output_type": "stream",
     "text": [
      "Logistic logloss is  0.631577644078975\n"
     ]
    },
    {
     "name": "stderr",
     "output_type": "stream",
     "text": [
      "/Users/petar.hristov/anaconda3/lib/python3.7/site-packages/sklearn/linear_model/_logistic.py:940: ConvergenceWarning: lbfgs failed to converge (status=1):\n",
      "STOP: TOTAL NO. of ITERATIONS REACHED LIMIT.\n",
      "\n",
      "Increase the number of iterations (max_iter) or scale the data as shown in:\n",
      "    https://scikit-learn.org/stable/modules/preprocessing.html\n",
      "Please also refer to the documentation for alternative solver options:\n",
      "    https://scikit-learn.org/stable/modules/linear_model.html#logistic-regression\n",
      "  extra_warning_msg=_LOGISTIC_SOLVER_CONVERGENCE_MSG)\n"
     ]
    }
   ],
   "source": [
    "clf_logistic = sklearn.linear_model.LogisticRegression(random_state=0).fit(X_train,y_train)\n",
    "logistic_pred_test = clf_logistic.predict(X_test)\n",
    "logistic_pred_stack = clf_logistic.predict(X_stack)\n",
    "logistic_log_loss = sklearn.metrics.log_loss(y_test, clf_logistic.predict_proba(X_test))\n",
    "print('Logistic logloss is ',logistic_log_loss)"
   ]
  },
  {
   "cell_type": "code",
   "execution_count": null,
   "metadata": {},
   "outputs": [],
   "source": [
    "644"
   ]
  },
  {
   "cell_type": "code",
   "execution_count": 139,
   "metadata": {},
   "outputs": [
    {
     "name": "stdout",
     "output_type": "stream",
     "text": [
      "Random forest logloss is  0.6672842405993349\n"
     ]
    }
   ],
   "source": [
    "clf_rf = RandomForestClassifier(max_depth=20, random_state=2, n_estimators=200)\n",
    "clf_rf.fit(X_train, y_train)\n",
    "rf_pred_test = clf_rf.predict(X_test)\n",
    "rf_pred_stack = clf_rf.predict(X_stack)\n",
    "rf_log_loss = sklearn.metrics.log_loss(y_test, clf_rf.predict_proba(X_test))\n",
    "print('Random forest logloss is ', rf_log_loss)\n"
   ]
  },
  {
   "cell_type": "code",
   "execution_count": null,
   "metadata": {},
   "outputs": [],
   "source": [
    "6711"
   ]
  },
  {
   "cell_type": "code",
   "execution_count": 137,
   "metadata": {},
   "outputs": [
    {
     "data": {
      "text/plain": [
       "0.5211507044275507"
      ]
     },
     "execution_count": 137,
     "metadata": {},
     "output_type": "execute_result"
    }
   ],
   "source": [
    "dtrain=xgb.DMatrix(X_train,label=y_train)\n",
    "dstack=xgb.DMatrix(X_stack,label=y_stack)\n",
    "dtest=xgb.DMatrix(X_test,label=y_test)\n",
    "param = {'max_depth':8, 'eta':0.1, 'objective':'multi:softprob', 'num_class': 9}\n",
    "num_round = 80\n",
    "bst = xgb.train(param, dtrain, num_round)\n",
    "xgb_pred_test = bst.predict(dtest)\n",
    "xgb_pred_stack = bst.predict(dstack)\n",
    "sklearn.metrics.log_loss(y_test, bst.predict(dtest))"
   ]
  },
  {
   "cell_type": "code",
   "execution_count": null,
   "metadata": {},
   "outputs": [],
   "source": [
    "5343"
   ]
  },
  {
   "cell_type": "code",
   "execution_count": 140,
   "metadata": {},
   "outputs": [
    {
     "data": {
      "text/plain": [
       "0.536334284662629"
      ]
     },
     "execution_count": 140,
     "metadata": {},
     "output_type": "execute_result"
    }
   ],
   "source": [
    "param = {'max_depth':4, 'eta':1, 'objective':'multi:softprob', 'num_class': 9}\n",
    "bst2 = xgb.train(param, dtrain, num_round)\n",
    "xgb2_pred_test = bst2.predict(dtest)\n",
    "xgb2_pred_stack = bst2.predict(dstack)\n",
    "sklearn.metrics.log_loss(y_test, bst2.predict(dtest))"
   ]
  },
  {
   "cell_type": "code",
   "execution_count": null,
   "metadata": {},
   "outputs": [],
   "source": [
    "5545"
   ]
  },
  {
   "cell_type": "code",
   "execution_count": 141,
   "metadata": {},
   "outputs": [
    {
     "data": {
      "text/plain": [
       "0.49655430405301737"
      ]
     },
     "execution_count": 141,
     "metadata": {},
     "output_type": "execute_result"
    }
   ],
   "source": [
    "param = {'max_depth':12, 'eta':0.1, 'objective':'multi:softprob', 'num_class': 9}\n",
    "bst3 = xgb.train(param, dtrain, num_round)\n",
    "xgb3_pred_test = bst3.predict(dtest)\n",
    "xgb3_pred_stack = bst3.predict(dstack)\n",
    "sklearn.metrics.log_loss(y_test, bst3.predict(dtest))"
   ]
  },
  {
   "cell_type": "code",
   "execution_count": null,
   "metadata": {},
   "outputs": [],
   "source": [
    "5069"
   ]
  },
  {
   "cell_type": "code",
   "execution_count": 142,
   "metadata": {},
   "outputs": [
    {
     "name": "stdout",
     "output_type": "stream",
     "text": [
      "Train set error  0.17525186159464382\n",
      "Test set error  0.4591945110461338\n"
     ]
    }
   ],
   "source": [
    "param = {'max_depth':9, 'eta':0.1, 'objective':'multi:softprob', 'num_class': 9, 'n_estimators': 400,\n",
    "         'subsample': 0.8, 'gamma': 1, 'min_child_weight': 0.8, 'colsample_bylevel': 0.8,\n",
    "        'colsample_bytree': 0.8, }\n",
    "bst4 = xgb.train(param, dtrain, 400)\n",
    "xgb4_pred_test = bst4.predict(dtest)\n",
    "xgb4_pred_stack = bst4.predict(dstack)\n",
    "print('Train set error ',sklearn.metrics.log_loss(y_train, bst4.predict(dtrain)))\n",
    "print('Test set error ',sklearn.metrics.log_loss(y_test, bst4.predict(dtest)))"
   ]
  },
  {
   "cell_type": "code",
   "execution_count": null,
   "metadata": {},
   "outputs": [],
   "source": [
    "4694"
   ]
  },
  {
   "cell_type": "code",
   "execution_count": 143,
   "metadata": {},
   "outputs": [
    {
     "name": "stdout",
     "output_type": "stream",
     "text": [
      "Train set error  0.30539586550667924\n"
     ]
    },
    {
     "data": {
      "text/plain": [
       "0.4912138850186399"
      ]
     },
     "execution_count": 143,
     "metadata": {},
     "output_type": "execute_result"
    }
   ],
   "source": [
    "#LightGBM\n",
    "clf_lgbm = lgbm.LGBMClassifier(num_leaves=50).fit(X_train, y_train)\n",
    "print('Train set error ',sklearn.metrics.log_loss(y_train, clf_lgbm.predict_proba(X_train)))\n",
    "sklearn.metrics.log_loss(y_test,clf_lgbm.predict_proba(X_test))"
   ]
  },
  {
   "cell_type": "code",
   "execution_count": null,
   "metadata": {},
   "outputs": [],
   "source": [
    "4972"
   ]
  },
  {
   "cell_type": "code",
   "execution_count": 135,
   "metadata": {},
   "outputs": [
    {
     "data": {
      "text/plain": [
       "0.4830322590837645"
      ]
     },
     "execution_count": 135,
     "metadata": {},
     "output_type": "execute_result"
    }
   ],
   "source": [
    "clf_lgbm2 = lgbm.LGBMClassifier(num_leaves=70).fit(X_train, y_train)\n",
    "sklearn.metrics.log_loss(y_test,clf_lgbm2.predict_proba(X_test))"
   ]
  },
  {
   "cell_type": "code",
   "execution_count": null,
   "metadata": {},
   "outputs": [],
   "source": [
    "487"
   ]
  },
  {
   "cell_type": "code",
   "execution_count": 153,
   "metadata": {},
   "outputs": [
    {
     "data": {
      "text/plain": [
       "0.47636401218787144"
      ]
     },
     "execution_count": 153,
     "metadata": {},
     "output_type": "execute_result"
    }
   ],
   "source": [
    "#LightGBM\n",
    "clf_lgbm3 = lgbm.LGBMClassifier(num_leaves=100).fit(X_train, y_train)\n",
    "sklearn.metrics.log_loss(y_test,clf_lgbm3.predict_proba(X_test))"
   ]
  },
  {
   "cell_type": "code",
   "execution_count": null,
   "metadata": {},
   "outputs": [],
   "source": [
    "4831"
   ]
  },
  {
   "cell_type": "code",
   "execution_count": 159,
   "metadata": {
    "scrolled": true
   },
   "outputs": [
    {
     "name": "stdout",
     "output_type": "stream",
     "text": [
      "[1]\tvalid_0's multi_logloss: 1.90127\n",
      "Training until validation scores don't improve for 200 rounds\n",
      "[2]\tvalid_0's multi_logloss: 1.85721\n",
      "[3]\tvalid_0's multi_logloss: 1.81647\n",
      "[4]\tvalid_0's multi_logloss: 1.77461\n",
      "[5]\tvalid_0's multi_logloss: 1.74133\n",
      "[6]\tvalid_0's multi_logloss: 1.70868\n",
      "[7]\tvalid_0's multi_logloss: 1.67894\n",
      "[8]\tvalid_0's multi_logloss: 1.64423\n",
      "[9]\tvalid_0's multi_logloss: 1.6139\n",
      "[10]\tvalid_0's multi_logloss: 1.58606\n",
      "[11]\tvalid_0's multi_logloss: 1.55783\n",
      "[12]\tvalid_0's multi_logloss: 1.53241\n",
      "[13]\tvalid_0's multi_logloss: 1.5083\n",
      "[14]\tvalid_0's multi_logloss: 1.48502\n",
      "[15]\tvalid_0's multi_logloss: 1.46146\n",
      "[16]\tvalid_0's multi_logloss: 1.44044\n",
      "[17]\tvalid_0's multi_logloss: 1.42144\n",
      "[18]\tvalid_0's multi_logloss: 1.40241\n",
      "[19]\tvalid_0's multi_logloss: 1.38233\n",
      "[20]\tvalid_0's multi_logloss: 1.36184\n",
      "[21]\tvalid_0's multi_logloss: 1.3444\n",
      "[22]\tvalid_0's multi_logloss: 1.32594\n",
      "[23]\tvalid_0's multi_logloss: 1.30897\n",
      "[24]\tvalid_0's multi_logloss: 1.29226\n",
      "[25]\tvalid_0's multi_logloss: 1.27543\n",
      "[26]\tvalid_0's multi_logloss: 1.25877\n",
      "[27]\tvalid_0's multi_logloss: 1.24395\n",
      "[28]\tvalid_0's multi_logloss: 1.22937\n",
      "[29]\tvalid_0's multi_logloss: 1.21604\n",
      "[30]\tvalid_0's multi_logloss: 1.20227\n",
      "[31]\tvalid_0's multi_logloss: 1.18882\n",
      "[32]\tvalid_0's multi_logloss: 1.17538\n",
      "[33]\tvalid_0's multi_logloss: 1.16308\n",
      "[34]\tvalid_0's multi_logloss: 1.15136\n",
      "[35]\tvalid_0's multi_logloss: 1.13956\n",
      "[36]\tvalid_0's multi_logloss: 1.12773\n",
      "[37]\tvalid_0's multi_logloss: 1.11615\n",
      "[38]\tvalid_0's multi_logloss: 1.10538\n",
      "[39]\tvalid_0's multi_logloss: 1.09406\n",
      "[40]\tvalid_0's multi_logloss: 1.08365\n",
      "[41]\tvalid_0's multi_logloss: 1.07396\n",
      "[42]\tvalid_0's multi_logloss: 1.0638\n",
      "[43]\tvalid_0's multi_logloss: 1.05372\n",
      "[44]\tvalid_0's multi_logloss: 1.04415\n",
      "[45]\tvalid_0's multi_logloss: 1.03496\n",
      "[46]\tvalid_0's multi_logloss: 1.02535\n",
      "[47]\tvalid_0's multi_logloss: 1.01748\n",
      "[48]\tvalid_0's multi_logloss: 1.00915\n",
      "[49]\tvalid_0's multi_logloss: 1.00085\n",
      "[50]\tvalid_0's multi_logloss: 0.991753\n",
      "[51]\tvalid_0's multi_logloss: 0.983908\n",
      "[52]\tvalid_0's multi_logloss: 0.976051\n",
      "[53]\tvalid_0's multi_logloss: 0.968414\n",
      "[54]\tvalid_0's multi_logloss: 0.961015\n",
      "[55]\tvalid_0's multi_logloss: 0.953962\n",
      "[56]\tvalid_0's multi_logloss: 0.946888\n",
      "[57]\tvalid_0's multi_logloss: 0.939955\n",
      "[58]\tvalid_0's multi_logloss: 0.933699\n",
      "[59]\tvalid_0's multi_logloss: 0.927463\n",
      "[60]\tvalid_0's multi_logloss: 0.921248\n",
      "[61]\tvalid_0's multi_logloss: 0.914763\n",
      "[62]\tvalid_0's multi_logloss: 0.908592\n",
      "[63]\tvalid_0's multi_logloss: 0.902476\n",
      "[64]\tvalid_0's multi_logloss: 0.896257\n",
      "[65]\tvalid_0's multi_logloss: 0.889973\n",
      "[66]\tvalid_0's multi_logloss: 0.884363\n",
      "[67]\tvalid_0's multi_logloss: 0.879008\n",
      "[68]\tvalid_0's multi_logloss: 0.872954\n",
      "[69]\tvalid_0's multi_logloss: 0.867406\n",
      "[70]\tvalid_0's multi_logloss: 0.862243\n",
      "[71]\tvalid_0's multi_logloss: 0.857356\n",
      "[72]\tvalid_0's multi_logloss: 0.852073\n",
      "[73]\tvalid_0's multi_logloss: 0.847304\n",
      "[74]\tvalid_0's multi_logloss: 0.84222\n",
      "[75]\tvalid_0's multi_logloss: 0.837602\n",
      "[76]\tvalid_0's multi_logloss: 0.832805\n",
      "[77]\tvalid_0's multi_logloss: 0.828333\n",
      "[78]\tvalid_0's multi_logloss: 0.823955\n",
      "[79]\tvalid_0's multi_logloss: 0.819664\n",
      "[80]\tvalid_0's multi_logloss: 0.815179\n",
      "[81]\tvalid_0's multi_logloss: 0.810893\n",
      "[82]\tvalid_0's multi_logloss: 0.806587\n",
      "[83]\tvalid_0's multi_logloss: 0.802118\n",
      "[84]\tvalid_0's multi_logloss: 0.797525\n",
      "[85]\tvalid_0's multi_logloss: 0.793455\n",
      "[86]\tvalid_0's multi_logloss: 0.789516\n",
      "[87]\tvalid_0's multi_logloss: 0.785283\n",
      "[88]\tvalid_0's multi_logloss: 0.781501\n",
      "[89]\tvalid_0's multi_logloss: 0.7779\n",
      "[90]\tvalid_0's multi_logloss: 0.773943\n",
      "[91]\tvalid_0's multi_logloss: 0.77043\n",
      "[92]\tvalid_0's multi_logloss: 0.766969\n",
      "[93]\tvalid_0's multi_logloss: 0.763487\n",
      "[94]\tvalid_0's multi_logloss: 0.760081\n",
      "[95]\tvalid_0's multi_logloss: 0.756456\n",
      "[96]\tvalid_0's multi_logloss: 0.753216\n",
      "[97]\tvalid_0's multi_logloss: 0.749883\n",
      "[98]\tvalid_0's multi_logloss: 0.746625\n",
      "[99]\tvalid_0's multi_logloss: 0.743514\n",
      "[100]\tvalid_0's multi_logloss: 0.740359\n",
      "[101]\tvalid_0's multi_logloss: 0.737419\n",
      "[102]\tvalid_0's multi_logloss: 0.734134\n",
      "[103]\tvalid_0's multi_logloss: 0.730821\n",
      "[104]\tvalid_0's multi_logloss: 0.727947\n",
      "[105]\tvalid_0's multi_logloss: 0.724908\n",
      "[106]\tvalid_0's multi_logloss: 0.722107\n",
      "[107]\tvalid_0's multi_logloss: 0.719355\n",
      "[108]\tvalid_0's multi_logloss: 0.716666\n",
      "[109]\tvalid_0's multi_logloss: 0.713754\n",
      "[110]\tvalid_0's multi_logloss: 0.710916\n",
      "[111]\tvalid_0's multi_logloss: 0.708192\n",
      "[112]\tvalid_0's multi_logloss: 0.70557\n",
      "[113]\tvalid_0's multi_logloss: 0.703203\n",
      "[114]\tvalid_0's multi_logloss: 0.700664\n",
      "[115]\tvalid_0's multi_logloss: 0.69824\n",
      "[116]\tvalid_0's multi_logloss: 0.695818\n",
      "[117]\tvalid_0's multi_logloss: 0.693435\n",
      "[118]\tvalid_0's multi_logloss: 0.691154\n",
      "[119]\tvalid_0's multi_logloss: 0.688659\n",
      "[120]\tvalid_0's multi_logloss: 0.6864\n",
      "[121]\tvalid_0's multi_logloss: 0.683865\n",
      "[122]\tvalid_0's multi_logloss: 0.681849\n",
      "[123]\tvalid_0's multi_logloss: 0.679561\n",
      "[124]\tvalid_0's multi_logloss: 0.677542\n",
      "[125]\tvalid_0's multi_logloss: 0.675467\n",
      "[126]\tvalid_0's multi_logloss: 0.673293\n",
      "[127]\tvalid_0's multi_logloss: 0.671262\n",
      "[128]\tvalid_0's multi_logloss: 0.669228\n",
      "[129]\tvalid_0's multi_logloss: 0.667294\n",
      "[130]\tvalid_0's multi_logloss: 0.665387\n",
      "[131]\tvalid_0's multi_logloss: 0.663425\n",
      "[132]\tvalid_0's multi_logloss: 0.661509\n",
      "[133]\tvalid_0's multi_logloss: 0.659595\n",
      "[134]\tvalid_0's multi_logloss: 0.657798\n",
      "[135]\tvalid_0's multi_logloss: 0.655953\n",
      "[136]\tvalid_0's multi_logloss: 0.654239\n",
      "[137]\tvalid_0's multi_logloss: 0.652423\n",
      "[138]\tvalid_0's multi_logloss: 0.650556\n",
      "[139]\tvalid_0's multi_logloss: 0.648711\n",
      "[140]\tvalid_0's multi_logloss: 0.64713\n",
      "[141]\tvalid_0's multi_logloss: 0.645285\n",
      "[142]\tvalid_0's multi_logloss: 0.643627\n",
      "[143]\tvalid_0's multi_logloss: 0.641865\n",
      "[144]\tvalid_0's multi_logloss: 0.640101\n",
      "[145]\tvalid_0's multi_logloss: 0.638313\n",
      "[146]\tvalid_0's multi_logloss: 0.636831\n",
      "[147]\tvalid_0's multi_logloss: 0.635208\n",
      "[148]\tvalid_0's multi_logloss: 0.633775\n",
      "[149]\tvalid_0's multi_logloss: 0.632081\n",
      "[150]\tvalid_0's multi_logloss: 0.6306\n",
      "[151]\tvalid_0's multi_logloss: 0.629236\n",
      "[152]\tvalid_0's multi_logloss: 0.627779\n",
      "[153]\tvalid_0's multi_logloss: 0.626239\n",
      "[154]\tvalid_0's multi_logloss: 0.624901\n",
      "[155]\tvalid_0's multi_logloss: 0.623371\n",
      "[156]\tvalid_0's multi_logloss: 0.621923\n",
      "[157]\tvalid_0's multi_logloss: 0.620468\n",
      "[158]\tvalid_0's multi_logloss: 0.619093\n",
      "[159]\tvalid_0's multi_logloss: 0.61784\n",
      "[160]\tvalid_0's multi_logloss: 0.616455\n",
      "[161]\tvalid_0's multi_logloss: 0.615243\n",
      "[162]\tvalid_0's multi_logloss: 0.613901\n",
      "[163]\tvalid_0's multi_logloss: 0.612639\n",
      "[164]\tvalid_0's multi_logloss: 0.611483\n",
      "[165]\tvalid_0's multi_logloss: 0.610368\n",
      "[166]\tvalid_0's multi_logloss: 0.609326\n",
      "[167]\tvalid_0's multi_logloss: 0.608128\n",
      "[168]\tvalid_0's multi_logloss: 0.607032\n",
      "[169]\tvalid_0's multi_logloss: 0.605814\n",
      "[170]\tvalid_0's multi_logloss: 0.60466\n",
      "[171]\tvalid_0's multi_logloss: 0.603688\n",
      "[172]\tvalid_0's multi_logloss: 0.60269\n",
      "[173]\tvalid_0's multi_logloss: 0.60153\n",
      "[174]\tvalid_0's multi_logloss: 0.600481\n",
      "[175]\tvalid_0's multi_logloss: 0.599373\n",
      "[176]\tvalid_0's multi_logloss: 0.598306\n",
      "[177]\tvalid_0's multi_logloss: 0.597291\n",
      "[178]\tvalid_0's multi_logloss: 0.596186\n",
      "[179]\tvalid_0's multi_logloss: 0.595243\n",
      "[180]\tvalid_0's multi_logloss: 0.594304\n",
      "[181]\tvalid_0's multi_logloss: 0.593268\n",
      "[182]\tvalid_0's multi_logloss: 0.592136\n",
      "[183]\tvalid_0's multi_logloss: 0.591051\n",
      "[184]\tvalid_0's multi_logloss: 0.59012\n",
      "[185]\tvalid_0's multi_logloss: 0.589163\n",
      "[186]\tvalid_0's multi_logloss: 0.588113\n",
      "[187]\tvalid_0's multi_logloss: 0.587228\n",
      "[188]\tvalid_0's multi_logloss: 0.586375\n",
      "[189]\tvalid_0's multi_logloss: 0.585382\n",
      "[190]\tvalid_0's multi_logloss: 0.584461\n",
      "[191]\tvalid_0's multi_logloss: 0.583497\n",
      "[192]\tvalid_0's multi_logloss: 0.582626\n",
      "[193]\tvalid_0's multi_logloss: 0.581818\n",
      "[194]\tvalid_0's multi_logloss: 0.58097\n",
      "[195]\tvalid_0's multi_logloss: 0.580092\n",
      "[196]\tvalid_0's multi_logloss: 0.579267\n",
      "[197]\tvalid_0's multi_logloss: 0.578393\n",
      "[198]\tvalid_0's multi_logloss: 0.577616\n",
      "[199]\tvalid_0's multi_logloss: 0.576842\n",
      "[200]\tvalid_0's multi_logloss: 0.575986\n",
      "[201]\tvalid_0's multi_logloss: 0.575122\n",
      "[202]\tvalid_0's multi_logloss: 0.574308\n",
      "[203]\tvalid_0's multi_logloss: 0.573531\n",
      "[204]\tvalid_0's multi_logloss: 0.572784\n",
      "[205]\tvalid_0's multi_logloss: 0.571908\n",
      "[206]\tvalid_0's multi_logloss: 0.571139\n",
      "[207]\tvalid_0's multi_logloss: 0.570406\n",
      "[208]\tvalid_0's multi_logloss: 0.569668\n"
     ]
    },
    {
     "name": "stdout",
     "output_type": "stream",
     "text": [
      "[209]\tvalid_0's multi_logloss: 0.568855\n",
      "[210]\tvalid_0's multi_logloss: 0.568119\n",
      "[211]\tvalid_0's multi_logloss: 0.567399\n",
      "[212]\tvalid_0's multi_logloss: 0.566711\n",
      "[213]\tvalid_0's multi_logloss: 0.566121\n",
      "[214]\tvalid_0's multi_logloss: 0.565447\n",
      "[215]\tvalid_0's multi_logloss: 0.564726\n",
      "[216]\tvalid_0's multi_logloss: 0.564043\n",
      "[217]\tvalid_0's multi_logloss: 0.563399\n",
      "[218]\tvalid_0's multi_logloss: 0.56275\n",
      "[219]\tvalid_0's multi_logloss: 0.562027\n",
      "[220]\tvalid_0's multi_logloss: 0.561457\n",
      "[221]\tvalid_0's multi_logloss: 0.560781\n",
      "[222]\tvalid_0's multi_logloss: 0.560191\n",
      "[223]\tvalid_0's multi_logloss: 0.559549\n",
      "[224]\tvalid_0's multi_logloss: 0.558879\n",
      "[225]\tvalid_0's multi_logloss: 0.558233\n",
      "[226]\tvalid_0's multi_logloss: 0.557555\n",
      "[227]\tvalid_0's multi_logloss: 0.556841\n",
      "[228]\tvalid_0's multi_logloss: 0.556165\n",
      "[229]\tvalid_0's multi_logloss: 0.555555\n",
      "[230]\tvalid_0's multi_logloss: 0.554944\n",
      "[231]\tvalid_0's multi_logloss: 0.55439\n",
      "[232]\tvalid_0's multi_logloss: 0.553785\n",
      "[233]\tvalid_0's multi_logloss: 0.553208\n",
      "[234]\tvalid_0's multi_logloss: 0.552608\n",
      "[235]\tvalid_0's multi_logloss: 0.552102\n",
      "[236]\tvalid_0's multi_logloss: 0.551548\n",
      "[237]\tvalid_0's multi_logloss: 0.550998\n",
      "[238]\tvalid_0's multi_logloss: 0.550456\n",
      "[239]\tvalid_0's multi_logloss: 0.549878\n",
      "[240]\tvalid_0's multi_logloss: 0.549281\n",
      "[241]\tvalid_0's multi_logloss: 0.548786\n",
      "[242]\tvalid_0's multi_logloss: 0.548207\n",
      "[243]\tvalid_0's multi_logloss: 0.547636\n",
      "[244]\tvalid_0's multi_logloss: 0.547106\n",
      "[245]\tvalid_0's multi_logloss: 0.546595\n",
      "[246]\tvalid_0's multi_logloss: 0.546048\n",
      "[247]\tvalid_0's multi_logloss: 0.545481\n",
      "[248]\tvalid_0's multi_logloss: 0.544939\n",
      "[249]\tvalid_0's multi_logloss: 0.544476\n",
      "[250]\tvalid_0's multi_logloss: 0.543912\n",
      "[251]\tvalid_0's multi_logloss: 0.543357\n",
      "[252]\tvalid_0's multi_logloss: 0.542818\n",
      "[253]\tvalid_0's multi_logloss: 0.542362\n",
      "[254]\tvalid_0's multi_logloss: 0.541782\n",
      "[255]\tvalid_0's multi_logloss: 0.54137\n",
      "[256]\tvalid_0's multi_logloss: 0.540849\n",
      "[257]\tvalid_0's multi_logloss: 0.540364\n",
      "[258]\tvalid_0's multi_logloss: 0.539876\n",
      "[259]\tvalid_0's multi_logloss: 0.539417\n",
      "[260]\tvalid_0's multi_logloss: 0.539012\n",
      "[261]\tvalid_0's multi_logloss: 0.538608\n",
      "[262]\tvalid_0's multi_logloss: 0.538148\n",
      "[263]\tvalid_0's multi_logloss: 0.537734\n",
      "[264]\tvalid_0's multi_logloss: 0.537292\n",
      "[265]\tvalid_0's multi_logloss: 0.536852\n",
      "[266]\tvalid_0's multi_logloss: 0.536452\n",
      "[267]\tvalid_0's multi_logloss: 0.536015\n",
      "[268]\tvalid_0's multi_logloss: 0.535612\n",
      "[269]\tvalid_0's multi_logloss: 0.535226\n",
      "[270]\tvalid_0's multi_logloss: 0.534801\n",
      "[271]\tvalid_0's multi_logloss: 0.534248\n",
      "[272]\tvalid_0's multi_logloss: 0.533803\n",
      "[273]\tvalid_0's multi_logloss: 0.533394\n",
      "[274]\tvalid_0's multi_logloss: 0.533003\n",
      "[275]\tvalid_0's multi_logloss: 0.53258\n",
      "[276]\tvalid_0's multi_logloss: 0.532111\n",
      "[277]\tvalid_0's multi_logloss: 0.531701\n",
      "[278]\tvalid_0's multi_logloss: 0.531354\n",
      "[279]\tvalid_0's multi_logloss: 0.530962\n",
      "[280]\tvalid_0's multi_logloss: 0.530544\n",
      "[281]\tvalid_0's multi_logloss: 0.53015\n",
      "[282]\tvalid_0's multi_logloss: 0.529737\n",
      "[283]\tvalid_0's multi_logloss: 0.529371\n",
      "[284]\tvalid_0's multi_logloss: 0.529019\n",
      "[285]\tvalid_0's multi_logloss: 0.528663\n",
      "[286]\tvalid_0's multi_logloss: 0.52826\n",
      "[287]\tvalid_0's multi_logloss: 0.52798\n",
      "[288]\tvalid_0's multi_logloss: 0.527664\n",
      "[289]\tvalid_0's multi_logloss: 0.527328\n",
      "[290]\tvalid_0's multi_logloss: 0.52691\n",
      "[291]\tvalid_0's multi_logloss: 0.526533\n",
      "[292]\tvalid_0's multi_logloss: 0.526268\n",
      "[293]\tvalid_0's multi_logloss: 0.525931\n",
      "[294]\tvalid_0's multi_logloss: 0.525659\n",
      "[295]\tvalid_0's multi_logloss: 0.52533\n",
      "[296]\tvalid_0's multi_logloss: 0.525005\n",
      "[297]\tvalid_0's multi_logloss: 0.524661\n",
      "[298]\tvalid_0's multi_logloss: 0.524351\n",
      "[299]\tvalid_0's multi_logloss: 0.523987\n",
      "[300]\tvalid_0's multi_logloss: 0.523689\n",
      "[301]\tvalid_0's multi_logloss: 0.523318\n",
      "[302]\tvalid_0's multi_logloss: 0.522965\n",
      "[303]\tvalid_0's multi_logloss: 0.522618\n",
      "[304]\tvalid_0's multi_logloss: 0.522268\n",
      "[305]\tvalid_0's multi_logloss: 0.521869\n",
      "[306]\tvalid_0's multi_logloss: 0.521598\n",
      "[307]\tvalid_0's multi_logloss: 0.52121\n",
      "[308]\tvalid_0's multi_logloss: 0.520851\n",
      "[309]\tvalid_0's multi_logloss: 0.520537\n",
      "[310]\tvalid_0's multi_logloss: 0.520237\n",
      "[311]\tvalid_0's multi_logloss: 0.519934\n",
      "[312]\tvalid_0's multi_logloss: 0.519594\n",
      "[313]\tvalid_0's multi_logloss: 0.519305\n",
      "[314]\tvalid_0's multi_logloss: 0.518988\n",
      "[315]\tvalid_0's multi_logloss: 0.518723\n",
      "[316]\tvalid_0's multi_logloss: 0.5184\n",
      "[317]\tvalid_0's multi_logloss: 0.518079\n",
      "[318]\tvalid_0's multi_logloss: 0.517776\n",
      "[319]\tvalid_0's multi_logloss: 0.517516\n",
      "[320]\tvalid_0's multi_logloss: 0.51725\n",
      "[321]\tvalid_0's multi_logloss: 0.516984\n",
      "[322]\tvalid_0's multi_logloss: 0.516673\n",
      "[323]\tvalid_0's multi_logloss: 0.516369\n",
      "[324]\tvalid_0's multi_logloss: 0.516093\n",
      "[325]\tvalid_0's multi_logloss: 0.515729\n",
      "[326]\tvalid_0's multi_logloss: 0.51541\n",
      "[327]\tvalid_0's multi_logloss: 0.51514\n",
      "[328]\tvalid_0's multi_logloss: 0.514786\n",
      "[329]\tvalid_0's multi_logloss: 0.514518\n",
      "[330]\tvalid_0's multi_logloss: 0.514264\n",
      "[331]\tvalid_0's multi_logloss: 0.513992\n",
      "[332]\tvalid_0's multi_logloss: 0.513669\n",
      "[333]\tvalid_0's multi_logloss: 0.513412\n",
      "[334]\tvalid_0's multi_logloss: 0.513133\n",
      "[335]\tvalid_0's multi_logloss: 0.512889\n",
      "[336]\tvalid_0's multi_logloss: 0.512656\n",
      "[337]\tvalid_0's multi_logloss: 0.51238\n",
      "[338]\tvalid_0's multi_logloss: 0.512148\n",
      "[339]\tvalid_0's multi_logloss: 0.51191\n",
      "[340]\tvalid_0's multi_logloss: 0.511604\n",
      "[341]\tvalid_0's multi_logloss: 0.511301\n",
      "[342]\tvalid_0's multi_logloss: 0.511078\n",
      "[343]\tvalid_0's multi_logloss: 0.510791\n",
      "[344]\tvalid_0's multi_logloss: 0.510555\n",
      "[345]\tvalid_0's multi_logloss: 0.510329\n",
      "[346]\tvalid_0's multi_logloss: 0.510109\n",
      "[347]\tvalid_0's multi_logloss: 0.509856\n",
      "[348]\tvalid_0's multi_logloss: 0.50967\n",
      "[349]\tvalid_0's multi_logloss: 0.509457\n",
      "[350]\tvalid_0's multi_logloss: 0.50917\n",
      "[351]\tvalid_0's multi_logloss: 0.508941\n",
      "[352]\tvalid_0's multi_logloss: 0.50871\n",
      "[353]\tvalid_0's multi_logloss: 0.508432\n",
      "[354]\tvalid_0's multi_logloss: 0.50823\n",
      "[355]\tvalid_0's multi_logloss: 0.508063\n",
      "[356]\tvalid_0's multi_logloss: 0.50782\n",
      "[357]\tvalid_0's multi_logloss: 0.507568\n",
      "[358]\tvalid_0's multi_logloss: 0.507324\n",
      "[359]\tvalid_0's multi_logloss: 0.507087\n",
      "[360]\tvalid_0's multi_logloss: 0.506834\n",
      "[361]\tvalid_0's multi_logloss: 0.506601\n",
      "[362]\tvalid_0's multi_logloss: 0.506364\n",
      "[363]\tvalid_0's multi_logloss: 0.506202\n",
      "[364]\tvalid_0's multi_logloss: 0.506029\n",
      "[365]\tvalid_0's multi_logloss: 0.505802\n",
      "[366]\tvalid_0's multi_logloss: 0.505605\n",
      "[367]\tvalid_0's multi_logloss: 0.505375\n",
      "[368]\tvalid_0's multi_logloss: 0.505153\n",
      "[369]\tvalid_0's multi_logloss: 0.504975\n",
      "[370]\tvalid_0's multi_logloss: 0.504758\n",
      "[371]\tvalid_0's multi_logloss: 0.504529\n",
      "[372]\tvalid_0's multi_logloss: 0.504362\n",
      "[373]\tvalid_0's multi_logloss: 0.504139\n",
      "[374]\tvalid_0's multi_logloss: 0.503982\n",
      "[375]\tvalid_0's multi_logloss: 0.50384\n",
      "[376]\tvalid_0's multi_logloss: 0.503679\n",
      "[377]\tvalid_0's multi_logloss: 0.503513\n",
      "[378]\tvalid_0's multi_logloss: 0.503332\n",
      "[379]\tvalid_0's multi_logloss: 0.503148\n",
      "[380]\tvalid_0's multi_logloss: 0.502981\n",
      "[381]\tvalid_0's multi_logloss: 0.502784\n",
      "[382]\tvalid_0's multi_logloss: 0.502583\n",
      "[383]\tvalid_0's multi_logloss: 0.50237\n",
      "[384]\tvalid_0's multi_logloss: 0.502201\n",
      "[385]\tvalid_0's multi_logloss: 0.501979\n",
      "[386]\tvalid_0's multi_logloss: 0.501734\n",
      "[387]\tvalid_0's multi_logloss: 0.501529\n",
      "[388]\tvalid_0's multi_logloss: 0.501319\n",
      "[389]\tvalid_0's multi_logloss: 0.501138\n",
      "[390]\tvalid_0's multi_logloss: 0.50092\n",
      "[391]\tvalid_0's multi_logloss: 0.500751\n",
      "[392]\tvalid_0's multi_logloss: 0.500581\n",
      "[393]\tvalid_0's multi_logloss: 0.500359\n",
      "[394]\tvalid_0's multi_logloss: 0.500191\n",
      "[395]\tvalid_0's multi_logloss: 0.500043\n",
      "[396]\tvalid_0's multi_logloss: 0.499872\n",
      "[397]\tvalid_0's multi_logloss: 0.499729\n",
      "[398]\tvalid_0's multi_logloss: 0.499543\n",
      "[399]\tvalid_0's multi_logloss: 0.499401\n",
      "[400]\tvalid_0's multi_logloss: 0.499266\n",
      "[401]\tvalid_0's multi_logloss: 0.499053\n",
      "[402]\tvalid_0's multi_logloss: 0.498854\n",
      "[403]\tvalid_0's multi_logloss: 0.498634\n",
      "[404]\tvalid_0's multi_logloss: 0.498454\n",
      "[405]\tvalid_0's multi_logloss: 0.498344\n",
      "[406]\tvalid_0's multi_logloss: 0.498166\n",
      "[407]\tvalid_0's multi_logloss: 0.49802\n",
      "[408]\tvalid_0's multi_logloss: 0.497884\n",
      "[409]\tvalid_0's multi_logloss: 0.497701\n",
      "[410]\tvalid_0's multi_logloss: 0.497518\n",
      "[411]\tvalid_0's multi_logloss: 0.497345\n",
      "[412]\tvalid_0's multi_logloss: 0.497172\n",
      "[413]\tvalid_0's multi_logloss: 0.497034\n",
      "[414]\tvalid_0's multi_logloss: 0.496925\n"
     ]
    },
    {
     "name": "stdout",
     "output_type": "stream",
     "text": [
      "[415]\tvalid_0's multi_logloss: 0.496748\n",
      "[416]\tvalid_0's multi_logloss: 0.496586\n",
      "[417]\tvalid_0's multi_logloss: 0.496511\n",
      "[418]\tvalid_0's multi_logloss: 0.496369\n",
      "[419]\tvalid_0's multi_logloss: 0.4962\n",
      "[420]\tvalid_0's multi_logloss: 0.496016\n",
      "[421]\tvalid_0's multi_logloss: 0.49584\n",
      "[422]\tvalid_0's multi_logloss: 0.495705\n",
      "[423]\tvalid_0's multi_logloss: 0.495539\n",
      "[424]\tvalid_0's multi_logloss: 0.495429\n",
      "[425]\tvalid_0's multi_logloss: 0.495269\n",
      "[426]\tvalid_0's multi_logloss: 0.495094\n",
      "[427]\tvalid_0's multi_logloss: 0.494923\n",
      "[428]\tvalid_0's multi_logloss: 0.49478\n",
      "[429]\tvalid_0's multi_logloss: 0.49466\n",
      "[430]\tvalid_0's multi_logloss: 0.494558\n",
      "[431]\tvalid_0's multi_logloss: 0.494434\n",
      "[432]\tvalid_0's multi_logloss: 0.494273\n",
      "[433]\tvalid_0's multi_logloss: 0.494145\n",
      "[434]\tvalid_0's multi_logloss: 0.493949\n",
      "[435]\tvalid_0's multi_logloss: 0.493793\n",
      "[436]\tvalid_0's multi_logloss: 0.493689\n",
      "[437]\tvalid_0's multi_logloss: 0.493547\n",
      "[438]\tvalid_0's multi_logloss: 0.493425\n",
      "[439]\tvalid_0's multi_logloss: 0.493286\n",
      "[440]\tvalid_0's multi_logloss: 0.493113\n",
      "[441]\tvalid_0's multi_logloss: 0.492959\n",
      "[442]\tvalid_0's multi_logloss: 0.492811\n",
      "[443]\tvalid_0's multi_logloss: 0.492686\n",
      "[444]\tvalid_0's multi_logloss: 0.492495\n",
      "[445]\tvalid_0's multi_logloss: 0.492388\n",
      "[446]\tvalid_0's multi_logloss: 0.492241\n",
      "[447]\tvalid_0's multi_logloss: 0.492106\n",
      "[448]\tvalid_0's multi_logloss: 0.491966\n",
      "[449]\tvalid_0's multi_logloss: 0.491744\n",
      "[450]\tvalid_0's multi_logloss: 0.491587\n",
      "[451]\tvalid_0's multi_logloss: 0.491416\n",
      "[452]\tvalid_0's multi_logloss: 0.49129\n",
      "[453]\tvalid_0's multi_logloss: 0.491111\n",
      "[454]\tvalid_0's multi_logloss: 0.490984\n",
      "[455]\tvalid_0's multi_logloss: 0.490846\n",
      "[456]\tvalid_0's multi_logloss: 0.490726\n",
      "[457]\tvalid_0's multi_logloss: 0.490659\n",
      "[458]\tvalid_0's multi_logloss: 0.490543\n",
      "[459]\tvalid_0's multi_logloss: 0.490412\n",
      "[460]\tvalid_0's multi_logloss: 0.490326\n",
      "[461]\tvalid_0's multi_logloss: 0.490182\n",
      "[462]\tvalid_0's multi_logloss: 0.490062\n",
      "[463]\tvalid_0's multi_logloss: 0.489937\n",
      "[464]\tvalid_0's multi_logloss: 0.489838\n",
      "[465]\tvalid_0's multi_logloss: 0.48971\n",
      "[466]\tvalid_0's multi_logloss: 0.489597\n",
      "[467]\tvalid_0's multi_logloss: 0.489459\n",
      "[468]\tvalid_0's multi_logloss: 0.489286\n",
      "[469]\tvalid_0's multi_logloss: 0.489126\n",
      "[470]\tvalid_0's multi_logloss: 0.48901\n",
      "[471]\tvalid_0's multi_logloss: 0.488833\n",
      "[472]\tvalid_0's multi_logloss: 0.488795\n",
      "[473]\tvalid_0's multi_logloss: 0.488603\n",
      "[474]\tvalid_0's multi_logloss: 0.488451\n",
      "[475]\tvalid_0's multi_logloss: 0.488302\n",
      "[476]\tvalid_0's multi_logloss: 0.48821\n",
      "[477]\tvalid_0's multi_logloss: 0.488084\n",
      "[478]\tvalid_0's multi_logloss: 0.487966\n",
      "[479]\tvalid_0's multi_logloss: 0.487849\n",
      "[480]\tvalid_0's multi_logloss: 0.487718\n",
      "[481]\tvalid_0's multi_logloss: 0.487561\n",
      "[482]\tvalid_0's multi_logloss: 0.487446\n",
      "[483]\tvalid_0's multi_logloss: 0.48734\n",
      "[484]\tvalid_0's multi_logloss: 0.487225\n",
      "[485]\tvalid_0's multi_logloss: 0.487107\n",
      "[486]\tvalid_0's multi_logloss: 0.486991\n",
      "[487]\tvalid_0's multi_logloss: 0.486895\n",
      "[488]\tvalid_0's multi_logloss: 0.486742\n",
      "[489]\tvalid_0's multi_logloss: 0.486658\n",
      "[490]\tvalid_0's multi_logloss: 0.486584\n",
      "[491]\tvalid_0's multi_logloss: 0.486465\n",
      "[492]\tvalid_0's multi_logloss: 0.486273\n",
      "[493]\tvalid_0's multi_logloss: 0.486158\n",
      "[494]\tvalid_0's multi_logloss: 0.486008\n",
      "[495]\tvalid_0's multi_logloss: 0.485899\n",
      "[496]\tvalid_0's multi_logloss: 0.485815\n",
      "[497]\tvalid_0's multi_logloss: 0.485705\n",
      "[498]\tvalid_0's multi_logloss: 0.485589\n",
      "[499]\tvalid_0's multi_logloss: 0.485459\n",
      "[500]\tvalid_0's multi_logloss: 0.485346\n",
      "[501]\tvalid_0's multi_logloss: 0.485292\n",
      "[502]\tvalid_0's multi_logloss: 0.485167\n",
      "[503]\tvalid_0's multi_logloss: 0.485096\n",
      "[504]\tvalid_0's multi_logloss: 0.485007\n",
      "[505]\tvalid_0's multi_logloss: 0.484876\n",
      "[506]\tvalid_0's multi_logloss: 0.484784\n",
      "[507]\tvalid_0's multi_logloss: 0.484636\n",
      "[508]\tvalid_0's multi_logloss: 0.484575\n",
      "[509]\tvalid_0's multi_logloss: 0.484521\n",
      "[510]\tvalid_0's multi_logloss: 0.484396\n",
      "[511]\tvalid_0's multi_logloss: 0.484266\n",
      "[512]\tvalid_0's multi_logloss: 0.484147\n",
      "[513]\tvalid_0's multi_logloss: 0.484054\n",
      "[514]\tvalid_0's multi_logloss: 0.483957\n",
      "[515]\tvalid_0's multi_logloss: 0.483909\n",
      "[516]\tvalid_0's multi_logloss: 0.483789\n",
      "[517]\tvalid_0's multi_logloss: 0.483718\n",
      "[518]\tvalid_0's multi_logloss: 0.483684\n",
      "[519]\tvalid_0's multi_logloss: 0.483609\n",
      "[520]\tvalid_0's multi_logloss: 0.483568\n",
      "[521]\tvalid_0's multi_logloss: 0.483495\n",
      "[522]\tvalid_0's multi_logloss: 0.483406\n",
      "[523]\tvalid_0's multi_logloss: 0.483292\n",
      "[524]\tvalid_0's multi_logloss: 0.483245\n",
      "[525]\tvalid_0's multi_logloss: 0.483133\n",
      "[526]\tvalid_0's multi_logloss: 0.48311\n",
      "[527]\tvalid_0's multi_logloss: 0.483044\n",
      "[528]\tvalid_0's multi_logloss: 0.482947\n",
      "[529]\tvalid_0's multi_logloss: 0.482869\n",
      "[530]\tvalid_0's multi_logloss: 0.482766\n",
      "[531]\tvalid_0's multi_logloss: 0.482684\n",
      "[532]\tvalid_0's multi_logloss: 0.482611\n",
      "[533]\tvalid_0's multi_logloss: 0.482501\n",
      "[534]\tvalid_0's multi_logloss: 0.482384\n",
      "[535]\tvalid_0's multi_logloss: 0.482322\n",
      "[536]\tvalid_0's multi_logloss: 0.482278\n",
      "[537]\tvalid_0's multi_logloss: 0.482194\n",
      "[538]\tvalid_0's multi_logloss: 0.482111\n",
      "[539]\tvalid_0's multi_logloss: 0.48205\n",
      "[540]\tvalid_0's multi_logloss: 0.481982\n",
      "[541]\tvalid_0's multi_logloss: 0.481888\n",
      "[542]\tvalid_0's multi_logloss: 0.481762\n",
      "[543]\tvalid_0's multi_logloss: 0.481647\n",
      "[544]\tvalid_0's multi_logloss: 0.481562\n",
      "[545]\tvalid_0's multi_logloss: 0.481445\n",
      "[546]\tvalid_0's multi_logloss: 0.481339\n",
      "[547]\tvalid_0's multi_logloss: 0.481207\n",
      "[548]\tvalid_0's multi_logloss: 0.481136\n",
      "[549]\tvalid_0's multi_logloss: 0.481012\n",
      "[550]\tvalid_0's multi_logloss: 0.480907\n",
      "[551]\tvalid_0's multi_logloss: 0.480803\n",
      "[552]\tvalid_0's multi_logloss: 0.480676\n",
      "[553]\tvalid_0's multi_logloss: 0.480568\n",
      "[554]\tvalid_0's multi_logloss: 0.480485\n",
      "[555]\tvalid_0's multi_logloss: 0.480406\n",
      "[556]\tvalid_0's multi_logloss: 0.480292\n",
      "[557]\tvalid_0's multi_logloss: 0.480137\n",
      "[558]\tvalid_0's multi_logloss: 0.480052\n",
      "[559]\tvalid_0's multi_logloss: 0.479901\n",
      "[560]\tvalid_0's multi_logloss: 0.479827\n",
      "[561]\tvalid_0's multi_logloss: 0.479693\n",
      "[562]\tvalid_0's multi_logloss: 0.479532\n",
      "[563]\tvalid_0's multi_logloss: 0.479389\n",
      "[564]\tvalid_0's multi_logloss: 0.479236\n",
      "[565]\tvalid_0's multi_logloss: 0.47917\n",
      "[566]\tvalid_0's multi_logloss: 0.47908\n",
      "[567]\tvalid_0's multi_logloss: 0.479036\n",
      "[568]\tvalid_0's multi_logloss: 0.478944\n",
      "[569]\tvalid_0's multi_logloss: 0.478794\n",
      "[570]\tvalid_0's multi_logloss: 0.478715\n",
      "[571]\tvalid_0's multi_logloss: 0.478581\n",
      "[572]\tvalid_0's multi_logloss: 0.478558\n",
      "[573]\tvalid_0's multi_logloss: 0.478458\n",
      "[574]\tvalid_0's multi_logloss: 0.478366\n",
      "[575]\tvalid_0's multi_logloss: 0.478326\n",
      "[576]\tvalid_0's multi_logloss: 0.478252\n",
      "[577]\tvalid_0's multi_logloss: 0.478175\n",
      "[578]\tvalid_0's multi_logloss: 0.478083\n",
      "[579]\tvalid_0's multi_logloss: 0.478\n",
      "[580]\tvalid_0's multi_logloss: 0.47798\n",
      "[581]\tvalid_0's multi_logloss: 0.477922\n",
      "[582]\tvalid_0's multi_logloss: 0.477814\n",
      "[583]\tvalid_0's multi_logloss: 0.477706\n",
      "[584]\tvalid_0's multi_logloss: 0.477646\n",
      "[585]\tvalid_0's multi_logloss: 0.477562\n",
      "[586]\tvalid_0's multi_logloss: 0.477507\n",
      "[587]\tvalid_0's multi_logloss: 0.477468\n",
      "[588]\tvalid_0's multi_logloss: 0.477442\n",
      "[589]\tvalid_0's multi_logloss: 0.477383\n",
      "[590]\tvalid_0's multi_logloss: 0.477254\n",
      "[591]\tvalid_0's multi_logloss: 0.477207\n",
      "[592]\tvalid_0's multi_logloss: 0.477136\n",
      "[593]\tvalid_0's multi_logloss: 0.477061\n",
      "[594]\tvalid_0's multi_logloss: 0.477016\n",
      "[595]\tvalid_0's multi_logloss: 0.47695\n",
      "[596]\tvalid_0's multi_logloss: 0.476911\n",
      "[597]\tvalid_0's multi_logloss: 0.476832\n",
      "[598]\tvalid_0's multi_logloss: 0.476796\n",
      "[599]\tvalid_0's multi_logloss: 0.476731\n",
      "[600]\tvalid_0's multi_logloss: 0.476702\n",
      "[601]\tvalid_0's multi_logloss: 0.476666\n",
      "[602]\tvalid_0's multi_logloss: 0.476567\n",
      "[603]\tvalid_0's multi_logloss: 0.47645\n",
      "[604]\tvalid_0's multi_logloss: 0.476313\n",
      "[605]\tvalid_0's multi_logloss: 0.476235\n",
      "[606]\tvalid_0's multi_logloss: 0.476174\n",
      "[607]\tvalid_0's multi_logloss: 0.476106\n",
      "[608]\tvalid_0's multi_logloss: 0.476009\n",
      "[609]\tvalid_0's multi_logloss: 0.475949\n",
      "[610]\tvalid_0's multi_logloss: 0.475871\n",
      "[611]\tvalid_0's multi_logloss: 0.475853\n",
      "[612]\tvalid_0's multi_logloss: 0.475822\n",
      "[613]\tvalid_0's multi_logloss: 0.475752\n",
      "[614]\tvalid_0's multi_logloss: 0.475707\n",
      "[615]\tvalid_0's multi_logloss: 0.475603\n",
      "[616]\tvalid_0's multi_logloss: 0.475514\n",
      "[617]\tvalid_0's multi_logloss: 0.475445\n",
      "[618]\tvalid_0's multi_logloss: 0.475316\n",
      "[619]\tvalid_0's multi_logloss: 0.475244\n",
      "[620]\tvalid_0's multi_logloss: 0.475199\n",
      "[621]\tvalid_0's multi_logloss: 0.475097\n",
      "[622]\tvalid_0's multi_logloss: 0.475036\n"
     ]
    },
    {
     "name": "stdout",
     "output_type": "stream",
     "text": [
      "[623]\tvalid_0's multi_logloss: 0.474939\n",
      "[624]\tvalid_0's multi_logloss: 0.474887\n",
      "[625]\tvalid_0's multi_logloss: 0.474839\n",
      "[626]\tvalid_0's multi_logloss: 0.474733\n",
      "[627]\tvalid_0's multi_logloss: 0.474686\n",
      "[628]\tvalid_0's multi_logloss: 0.474605\n",
      "[629]\tvalid_0's multi_logloss: 0.474531\n",
      "[630]\tvalid_0's multi_logloss: 0.474475\n",
      "[631]\tvalid_0's multi_logloss: 0.47444\n",
      "[632]\tvalid_0's multi_logloss: 0.474393\n",
      "[633]\tvalid_0's multi_logloss: 0.474318\n",
      "[634]\tvalid_0's multi_logloss: 0.474229\n",
      "[635]\tvalid_0's multi_logloss: 0.474179\n",
      "[636]\tvalid_0's multi_logloss: 0.474102\n",
      "[637]\tvalid_0's multi_logloss: 0.474079\n",
      "[638]\tvalid_0's multi_logloss: 0.474059\n",
      "[639]\tvalid_0's multi_logloss: 0.473999\n",
      "[640]\tvalid_0's multi_logloss: 0.473968\n",
      "[641]\tvalid_0's multi_logloss: 0.473912\n",
      "[642]\tvalid_0's multi_logloss: 0.473867\n",
      "[643]\tvalid_0's multi_logloss: 0.473806\n",
      "[644]\tvalid_0's multi_logloss: 0.473799\n",
      "[645]\tvalid_0's multi_logloss: 0.473743\n",
      "[646]\tvalid_0's multi_logloss: 0.473723\n",
      "[647]\tvalid_0's multi_logloss: 0.473631\n",
      "[648]\tvalid_0's multi_logloss: 0.47353\n",
      "[649]\tvalid_0's multi_logloss: 0.473463\n",
      "[650]\tvalid_0's multi_logloss: 0.473437\n",
      "[651]\tvalid_0's multi_logloss: 0.473394\n",
      "[652]\tvalid_0's multi_logloss: 0.473375\n",
      "[653]\tvalid_0's multi_logloss: 0.473312\n",
      "[654]\tvalid_0's multi_logloss: 0.473237\n",
      "[655]\tvalid_0's multi_logloss: 0.473119\n",
      "[656]\tvalid_0's multi_logloss: 0.473078\n",
      "[657]\tvalid_0's multi_logloss: 0.473064\n",
      "[658]\tvalid_0's multi_logloss: 0.473049\n",
      "[659]\tvalid_0's multi_logloss: 0.473004\n",
      "[660]\tvalid_0's multi_logloss: 0.47297\n",
      "[661]\tvalid_0's multi_logloss: 0.472924\n",
      "[662]\tvalid_0's multi_logloss: 0.472837\n",
      "[663]\tvalid_0's multi_logloss: 0.472824\n",
      "[664]\tvalid_0's multi_logloss: 0.472742\n",
      "[665]\tvalid_0's multi_logloss: 0.472704\n",
      "[666]\tvalid_0's multi_logloss: 0.472644\n",
      "[667]\tvalid_0's multi_logloss: 0.472548\n",
      "[668]\tvalid_0's multi_logloss: 0.472476\n",
      "[669]\tvalid_0's multi_logloss: 0.472426\n",
      "[670]\tvalid_0's multi_logloss: 0.472367\n",
      "[671]\tvalid_0's multi_logloss: 0.472317\n",
      "[672]\tvalid_0's multi_logloss: 0.472262\n",
      "[673]\tvalid_0's multi_logloss: 0.47219\n",
      "[674]\tvalid_0's multi_logloss: 0.472137\n",
      "[675]\tvalid_0's multi_logloss: 0.472123\n",
      "[676]\tvalid_0's multi_logloss: 0.472081\n",
      "[677]\tvalid_0's multi_logloss: 0.472059\n",
      "[678]\tvalid_0's multi_logloss: 0.472054\n",
      "[679]\tvalid_0's multi_logloss: 0.472061\n",
      "[680]\tvalid_0's multi_logloss: 0.472057\n",
      "[681]\tvalid_0's multi_logloss: 0.471883\n",
      "[682]\tvalid_0's multi_logloss: 0.471798\n",
      "[683]\tvalid_0's multi_logloss: 0.471735\n",
      "[684]\tvalid_0's multi_logloss: 0.471638\n",
      "[685]\tvalid_0's multi_logloss: 0.471549\n",
      "[686]\tvalid_0's multi_logloss: 0.471466\n",
      "[687]\tvalid_0's multi_logloss: 0.471473\n",
      "[688]\tvalid_0's multi_logloss: 0.471352\n",
      "[689]\tvalid_0's multi_logloss: 0.471288\n",
      "[690]\tvalid_0's multi_logloss: 0.471237\n",
      "[691]\tvalid_0's multi_logloss: 0.471151\n",
      "[692]\tvalid_0's multi_logloss: 0.47114\n",
      "[693]\tvalid_0's multi_logloss: 0.471082\n",
      "[694]\tvalid_0's multi_logloss: 0.471021\n",
      "[695]\tvalid_0's multi_logloss: 0.47099\n",
      "[696]\tvalid_0's multi_logloss: 0.470997\n",
      "[697]\tvalid_0's multi_logloss: 0.471004\n",
      "[698]\tvalid_0's multi_logloss: 0.470935\n",
      "[699]\tvalid_0's multi_logloss: 0.47085\n",
      "[700]\tvalid_0's multi_logloss: 0.470764\n",
      "[701]\tvalid_0's multi_logloss: 0.470747\n",
      "[702]\tvalid_0's multi_logloss: 0.470666\n",
      "[703]\tvalid_0's multi_logloss: 0.470603\n",
      "[704]\tvalid_0's multi_logloss: 0.47055\n",
      "[705]\tvalid_0's multi_logloss: 0.470501\n",
      "[706]\tvalid_0's multi_logloss: 0.470464\n",
      "[707]\tvalid_0's multi_logloss: 0.470456\n",
      "[708]\tvalid_0's multi_logloss: 0.470447\n",
      "[709]\tvalid_0's multi_logloss: 0.470435\n",
      "[710]\tvalid_0's multi_logloss: 0.470399\n",
      "[711]\tvalid_0's multi_logloss: 0.470367\n",
      "[712]\tvalid_0's multi_logloss: 0.470336\n",
      "[713]\tvalid_0's multi_logloss: 0.470365\n",
      "[714]\tvalid_0's multi_logloss: 0.470385\n",
      "[715]\tvalid_0's multi_logloss: 0.470385\n",
      "[716]\tvalid_0's multi_logloss: 0.470345\n",
      "[717]\tvalid_0's multi_logloss: 0.470304\n",
      "[718]\tvalid_0's multi_logloss: 0.470242\n",
      "[719]\tvalid_0's multi_logloss: 0.470247\n",
      "[720]\tvalid_0's multi_logloss: 0.470188\n",
      "[721]\tvalid_0's multi_logloss: 0.470106\n",
      "[722]\tvalid_0's multi_logloss: 0.470001\n",
      "[723]\tvalid_0's multi_logloss: 0.46995\n",
      "[724]\tvalid_0's multi_logloss: 0.469897\n",
      "[725]\tvalid_0's multi_logloss: 0.469842\n",
      "[726]\tvalid_0's multi_logloss: 0.469771\n",
      "[727]\tvalid_0's multi_logloss: 0.469713\n",
      "[728]\tvalid_0's multi_logloss: 0.469695\n",
      "[729]\tvalid_0's multi_logloss: 0.469618\n",
      "[730]\tvalid_0's multi_logloss: 0.469583\n",
      "[731]\tvalid_0's multi_logloss: 0.469531\n",
      "[732]\tvalid_0's multi_logloss: 0.469458\n",
      "[733]\tvalid_0's multi_logloss: 0.469358\n",
      "[734]\tvalid_0's multi_logloss: 0.469279\n",
      "[735]\tvalid_0's multi_logloss: 0.469245\n",
      "[736]\tvalid_0's multi_logloss: 0.469209\n",
      "[737]\tvalid_0's multi_logloss: 0.469158\n",
      "[738]\tvalid_0's multi_logloss: 0.469101\n",
      "[739]\tvalid_0's multi_logloss: 0.469057\n",
      "[740]\tvalid_0's multi_logloss: 0.468982\n",
      "[741]\tvalid_0's multi_logloss: 0.468963\n",
      "[742]\tvalid_0's multi_logloss: 0.46896\n",
      "[743]\tvalid_0's multi_logloss: 0.468931\n",
      "[744]\tvalid_0's multi_logloss: 0.468883\n",
      "[745]\tvalid_0's multi_logloss: 0.468891\n",
      "[746]\tvalid_0's multi_logloss: 0.468852\n",
      "[747]\tvalid_0's multi_logloss: 0.468833\n",
      "[748]\tvalid_0's multi_logloss: 0.468819\n",
      "[749]\tvalid_0's multi_logloss: 0.468753\n",
      "[750]\tvalid_0's multi_logloss: 0.468751\n",
      "[751]\tvalid_0's multi_logloss: 0.468721\n",
      "[752]\tvalid_0's multi_logloss: 0.468684\n",
      "[753]\tvalid_0's multi_logloss: 0.468675\n",
      "[754]\tvalid_0's multi_logloss: 0.468648\n",
      "[755]\tvalid_0's multi_logloss: 0.468657\n",
      "[756]\tvalid_0's multi_logloss: 0.468614\n",
      "[757]\tvalid_0's multi_logloss: 0.468599\n",
      "[758]\tvalid_0's multi_logloss: 0.468567\n",
      "[759]\tvalid_0's multi_logloss: 0.468558\n",
      "[760]\tvalid_0's multi_logloss: 0.468514\n",
      "[761]\tvalid_0's multi_logloss: 0.468404\n",
      "[762]\tvalid_0's multi_logloss: 0.468303\n",
      "[763]\tvalid_0's multi_logloss: 0.468269\n",
      "[764]\tvalid_0's multi_logloss: 0.468221\n",
      "[765]\tvalid_0's multi_logloss: 0.468149\n",
      "[766]\tvalid_0's multi_logloss: 0.468058\n",
      "[767]\tvalid_0's multi_logloss: 0.468021\n",
      "[768]\tvalid_0's multi_logloss: 0.46794\n",
      "[769]\tvalid_0's multi_logloss: 0.467865\n",
      "[770]\tvalid_0's multi_logloss: 0.467769\n",
      "[771]\tvalid_0's multi_logloss: 0.467692\n",
      "[772]\tvalid_0's multi_logloss: 0.467623\n",
      "[773]\tvalid_0's multi_logloss: 0.467579\n",
      "[774]\tvalid_0's multi_logloss: 0.467558\n",
      "[775]\tvalid_0's multi_logloss: 0.467544\n",
      "[776]\tvalid_0's multi_logloss: 0.467495\n",
      "[777]\tvalid_0's multi_logloss: 0.467446\n",
      "[778]\tvalid_0's multi_logloss: 0.467421\n",
      "[779]\tvalid_0's multi_logloss: 0.467359\n",
      "[780]\tvalid_0's multi_logloss: 0.467302\n",
      "[781]\tvalid_0's multi_logloss: 0.467247\n",
      "[782]\tvalid_0's multi_logloss: 0.467207\n",
      "[783]\tvalid_0's multi_logloss: 0.467161\n",
      "[784]\tvalid_0's multi_logloss: 0.467096\n",
      "[785]\tvalid_0's multi_logloss: 0.467069\n",
      "[786]\tvalid_0's multi_logloss: 0.467024\n",
      "[787]\tvalid_0's multi_logloss: 0.466963\n",
      "[788]\tvalid_0's multi_logloss: 0.46694\n",
      "[789]\tvalid_0's multi_logloss: 0.466885\n",
      "[790]\tvalid_0's multi_logloss: 0.46688\n",
      "[791]\tvalid_0's multi_logloss: 0.466837\n",
      "[792]\tvalid_0's multi_logloss: 0.466845\n",
      "[793]\tvalid_0's multi_logloss: 0.46676\n",
      "[794]\tvalid_0's multi_logloss: 0.466696\n",
      "[795]\tvalid_0's multi_logloss: 0.466659\n",
      "[796]\tvalid_0's multi_logloss: 0.46663\n",
      "[797]\tvalid_0's multi_logloss: 0.466611\n",
      "[798]\tvalid_0's multi_logloss: 0.466594\n",
      "[799]\tvalid_0's multi_logloss: 0.466572\n",
      "[800]\tvalid_0's multi_logloss: 0.466546\n",
      "[801]\tvalid_0's multi_logloss: 0.466494\n",
      "[802]\tvalid_0's multi_logloss: 0.466419\n",
      "[803]\tvalid_0's multi_logloss: 0.46639\n",
      "[804]\tvalid_0's multi_logloss: 0.466418\n",
      "[805]\tvalid_0's multi_logloss: 0.466342\n",
      "[806]\tvalid_0's multi_logloss: 0.46628\n",
      "[807]\tvalid_0's multi_logloss: 0.466233\n",
      "[808]\tvalid_0's multi_logloss: 0.466169\n",
      "[809]\tvalid_0's multi_logloss: 0.466125\n",
      "[810]\tvalid_0's multi_logloss: 0.466069\n",
      "[811]\tvalid_0's multi_logloss: 0.466032\n",
      "[812]\tvalid_0's multi_logloss: 0.466037\n",
      "[813]\tvalid_0's multi_logloss: 0.465962\n",
      "[814]\tvalid_0's multi_logloss: 0.465883\n",
      "[815]\tvalid_0's multi_logloss: 0.465805\n",
      "[816]\tvalid_0's multi_logloss: 0.465775\n",
      "[817]\tvalid_0's multi_logloss: 0.465774\n",
      "[818]\tvalid_0's multi_logloss: 0.46576\n",
      "[819]\tvalid_0's multi_logloss: 0.465728\n",
      "[820]\tvalid_0's multi_logloss: 0.465683\n",
      "[821]\tvalid_0's multi_logloss: 0.465614\n",
      "[822]\tvalid_0's multi_logloss: 0.46554\n",
      "[823]\tvalid_0's multi_logloss: 0.465477\n",
      "[824]\tvalid_0's multi_logloss: 0.465436\n",
      "[825]\tvalid_0's multi_logloss: 0.465423\n",
      "[826]\tvalid_0's multi_logloss: 0.465379\n",
      "[827]\tvalid_0's multi_logloss: 0.465319\n",
      "[828]\tvalid_0's multi_logloss: 0.4653\n",
      "[829]\tvalid_0's multi_logloss: 0.465272\n"
     ]
    },
    {
     "name": "stdout",
     "output_type": "stream",
     "text": [
      "[830]\tvalid_0's multi_logloss: 0.465217\n",
      "[831]\tvalid_0's multi_logloss: 0.465233\n",
      "[832]\tvalid_0's multi_logloss: 0.465216\n",
      "[833]\tvalid_0's multi_logloss: 0.465178\n",
      "[834]\tvalid_0's multi_logloss: 0.465149\n",
      "[835]\tvalid_0's multi_logloss: 0.465137\n",
      "[836]\tvalid_0's multi_logloss: 0.465123\n",
      "[837]\tvalid_0's multi_logloss: 0.465101\n",
      "[838]\tvalid_0's multi_logloss: 0.46508\n",
      "[839]\tvalid_0's multi_logloss: 0.465045\n",
      "[840]\tvalid_0's multi_logloss: 0.46505\n",
      "[841]\tvalid_0's multi_logloss: 0.464974\n",
      "[842]\tvalid_0's multi_logloss: 0.464934\n",
      "[843]\tvalid_0's multi_logloss: 0.46494\n",
      "[844]\tvalid_0's multi_logloss: 0.464939\n",
      "[845]\tvalid_0's multi_logloss: 0.464925\n",
      "[846]\tvalid_0's multi_logloss: 0.464902\n",
      "[847]\tvalid_0's multi_logloss: 0.464858\n",
      "[848]\tvalid_0's multi_logloss: 0.464812\n",
      "[849]\tvalid_0's multi_logloss: 0.464783\n",
      "[850]\tvalid_0's multi_logloss: 0.464773\n",
      "[851]\tvalid_0's multi_logloss: 0.464768\n",
      "[852]\tvalid_0's multi_logloss: 0.464714\n",
      "[853]\tvalid_0's multi_logloss: 0.464703\n",
      "[854]\tvalid_0's multi_logloss: 0.464679\n",
      "[855]\tvalid_0's multi_logloss: 0.464691\n",
      "[856]\tvalid_0's multi_logloss: 0.464615\n",
      "[857]\tvalid_0's multi_logloss: 0.464619\n",
      "[858]\tvalid_0's multi_logloss: 0.464639\n",
      "[859]\tvalid_0's multi_logloss: 0.464594\n",
      "[860]\tvalid_0's multi_logloss: 0.464587\n",
      "[861]\tvalid_0's multi_logloss: 0.464554\n",
      "[862]\tvalid_0's multi_logloss: 0.464527\n",
      "[863]\tvalid_0's multi_logloss: 0.464501\n",
      "[864]\tvalid_0's multi_logloss: 0.464482\n",
      "[865]\tvalid_0's multi_logloss: 0.464483\n",
      "[866]\tvalid_0's multi_logloss: 0.464437\n",
      "[867]\tvalid_0's multi_logloss: 0.464406\n",
      "[868]\tvalid_0's multi_logloss: 0.464363\n",
      "[869]\tvalid_0's multi_logloss: 0.464373\n",
      "[870]\tvalid_0's multi_logloss: 0.46434\n",
      "[871]\tvalid_0's multi_logloss: 0.464351\n",
      "[872]\tvalid_0's multi_logloss: 0.464325\n",
      "[873]\tvalid_0's multi_logloss: 0.464315\n",
      "[874]\tvalid_0's multi_logloss: 0.464344\n",
      "[875]\tvalid_0's multi_logloss: 0.464273\n",
      "[876]\tvalid_0's multi_logloss: 0.464251\n",
      "[877]\tvalid_0's multi_logloss: 0.464249\n",
      "[878]\tvalid_0's multi_logloss: 0.464225\n",
      "[879]\tvalid_0's multi_logloss: 0.464173\n",
      "[880]\tvalid_0's multi_logloss: 0.464171\n",
      "[881]\tvalid_0's multi_logloss: 0.464099\n",
      "[882]\tvalid_0's multi_logloss: 0.464031\n",
      "[883]\tvalid_0's multi_logloss: 0.463926\n",
      "[884]\tvalid_0's multi_logloss: 0.463934\n",
      "[885]\tvalid_0's multi_logloss: 0.463941\n",
      "[886]\tvalid_0's multi_logloss: 0.46392\n",
      "[887]\tvalid_0's multi_logloss: 0.463846\n",
      "[888]\tvalid_0's multi_logloss: 0.463805\n",
      "[889]\tvalid_0's multi_logloss: 0.463815\n",
      "[890]\tvalid_0's multi_logloss: 0.463768\n",
      "[891]\tvalid_0's multi_logloss: 0.463716\n",
      "[892]\tvalid_0's multi_logloss: 0.463672\n",
      "[893]\tvalid_0's multi_logloss: 0.463648\n",
      "[894]\tvalid_0's multi_logloss: 0.463689\n",
      "[895]\tvalid_0's multi_logloss: 0.463646\n",
      "[896]\tvalid_0's multi_logloss: 0.463656\n",
      "[897]\tvalid_0's multi_logloss: 0.46362\n",
      "[898]\tvalid_0's multi_logloss: 0.463605\n",
      "[899]\tvalid_0's multi_logloss: 0.463579\n",
      "[900]\tvalid_0's multi_logloss: 0.463571\n",
      "[901]\tvalid_0's multi_logloss: 0.463547\n",
      "[902]\tvalid_0's multi_logloss: 0.46349\n",
      "[903]\tvalid_0's multi_logloss: 0.463505\n",
      "[904]\tvalid_0's multi_logloss: 0.463511\n",
      "[905]\tvalid_0's multi_logloss: 0.463536\n",
      "[906]\tvalid_0's multi_logloss: 0.463545\n",
      "[907]\tvalid_0's multi_logloss: 0.463532\n",
      "[908]\tvalid_0's multi_logloss: 0.463495\n",
      "[909]\tvalid_0's multi_logloss: 0.463462\n",
      "[910]\tvalid_0's multi_logloss: 0.463482\n",
      "[911]\tvalid_0's multi_logloss: 0.463529\n",
      "[912]\tvalid_0's multi_logloss: 0.4635\n",
      "[913]\tvalid_0's multi_logloss: 0.463475\n",
      "[914]\tvalid_0's multi_logloss: 0.46346\n",
      "[915]\tvalid_0's multi_logloss: 0.463418\n",
      "[916]\tvalid_0's multi_logloss: 0.46346\n",
      "[917]\tvalid_0's multi_logloss: 0.463431\n",
      "[918]\tvalid_0's multi_logloss: 0.463387\n",
      "[919]\tvalid_0's multi_logloss: 0.463389\n",
      "[920]\tvalid_0's multi_logloss: 0.463412\n",
      "[921]\tvalid_0's multi_logloss: 0.463346\n",
      "[922]\tvalid_0's multi_logloss: 0.463274\n",
      "[923]\tvalid_0's multi_logloss: 0.463224\n",
      "[924]\tvalid_0's multi_logloss: 0.46323\n",
      "[925]\tvalid_0's multi_logloss: 0.463196\n",
      "[926]\tvalid_0's multi_logloss: 0.463181\n",
      "[927]\tvalid_0's multi_logloss: 0.463141\n",
      "[928]\tvalid_0's multi_logloss: 0.463156\n",
      "[929]\tvalid_0's multi_logloss: 0.463142\n",
      "[930]\tvalid_0's multi_logloss: 0.463146\n",
      "[931]\tvalid_0's multi_logloss: 0.46311\n",
      "[932]\tvalid_0's multi_logloss: 0.463101\n",
      "[933]\tvalid_0's multi_logloss: 0.463064\n",
      "[934]\tvalid_0's multi_logloss: 0.46304\n",
      "[935]\tvalid_0's multi_logloss: 0.463045\n",
      "[936]\tvalid_0's multi_logloss: 0.463009\n",
      "[937]\tvalid_0's multi_logloss: 0.463011\n",
      "[938]\tvalid_0's multi_logloss: 0.463\n",
      "[939]\tvalid_0's multi_logloss: 0.463012\n",
      "[940]\tvalid_0's multi_logloss: 0.462985\n",
      "[941]\tvalid_0's multi_logloss: 0.463018\n",
      "[942]\tvalid_0's multi_logloss: 0.463011\n",
      "[943]\tvalid_0's multi_logloss: 0.462958\n",
      "[944]\tvalid_0's multi_logloss: 0.462907\n",
      "[945]\tvalid_0's multi_logloss: 0.462885\n",
      "[946]\tvalid_0's multi_logloss: 0.462854\n",
      "[947]\tvalid_0's multi_logloss: 0.462814\n",
      "[948]\tvalid_0's multi_logloss: 0.462768\n",
      "[949]\tvalid_0's multi_logloss: 0.462701\n",
      "[950]\tvalid_0's multi_logloss: 0.462704\n",
      "[951]\tvalid_0's multi_logloss: 0.462693\n",
      "[952]\tvalid_0's multi_logloss: 0.462702\n",
      "[953]\tvalid_0's multi_logloss: 0.46266\n",
      "[954]\tvalid_0's multi_logloss: 0.462591\n",
      "[955]\tvalid_0's multi_logloss: 0.462584\n",
      "[956]\tvalid_0's multi_logloss: 0.462569\n",
      "[957]\tvalid_0's multi_logloss: 0.46252\n",
      "[958]\tvalid_0's multi_logloss: 0.462503\n",
      "[959]\tvalid_0's multi_logloss: 0.462514\n",
      "[960]\tvalid_0's multi_logloss: 0.46253\n",
      "[961]\tvalid_0's multi_logloss: 0.462506\n",
      "[962]\tvalid_0's multi_logloss: 0.462493\n",
      "[963]\tvalid_0's multi_logloss: 0.462465\n",
      "[964]\tvalid_0's multi_logloss: 0.462435\n",
      "[965]\tvalid_0's multi_logloss: 0.462406\n",
      "[966]\tvalid_0's multi_logloss: 0.462367\n",
      "[967]\tvalid_0's multi_logloss: 0.462394\n",
      "[968]\tvalid_0's multi_logloss: 0.462383\n",
      "[969]\tvalid_0's multi_logloss: 0.462347\n",
      "[970]\tvalid_0's multi_logloss: 0.462344\n",
      "[971]\tvalid_0's multi_logloss: 0.462339\n",
      "[972]\tvalid_0's multi_logloss: 0.462322\n",
      "[973]\tvalid_0's multi_logloss: 0.462293\n",
      "[974]\tvalid_0's multi_logloss: 0.462302\n",
      "[975]\tvalid_0's multi_logloss: 0.462311\n",
      "[976]\tvalid_0's multi_logloss: 0.462292\n",
      "[977]\tvalid_0's multi_logloss: 0.462291\n",
      "[978]\tvalid_0's multi_logloss: 0.4623\n",
      "[979]\tvalid_0's multi_logloss: 0.462324\n",
      "[980]\tvalid_0's multi_logloss: 0.462356\n",
      "[981]\tvalid_0's multi_logloss: 0.462319\n",
      "[982]\tvalid_0's multi_logloss: 0.46226\n",
      "[983]\tvalid_0's multi_logloss: 0.462245\n",
      "[984]\tvalid_0's multi_logloss: 0.462189\n",
      "[985]\tvalid_0's multi_logloss: 0.462121\n",
      "[986]\tvalid_0's multi_logloss: 0.462143\n",
      "[987]\tvalid_0's multi_logloss: 0.462161\n",
      "[988]\tvalid_0's multi_logloss: 0.462104\n",
      "[989]\tvalid_0's multi_logloss: 0.462016\n",
      "[990]\tvalid_0's multi_logloss: 0.461983\n",
      "[991]\tvalid_0's multi_logloss: 0.461977\n",
      "[992]\tvalid_0's multi_logloss: 0.46199\n",
      "[993]\tvalid_0's multi_logloss: 0.461993\n",
      "[994]\tvalid_0's multi_logloss: 0.461951\n",
      "[995]\tvalid_0's multi_logloss: 0.461928\n",
      "[996]\tvalid_0's multi_logloss: 0.461893\n",
      "[997]\tvalid_0's multi_logloss: 0.461866\n",
      "[998]\tvalid_0's multi_logloss: 0.461864\n",
      "[999]\tvalid_0's multi_logloss: 0.461852\n",
      "[1000]\tvalid_0's multi_logloss: 0.461868\n",
      "[1001]\tvalid_0's multi_logloss: 0.461822\n",
      "[1002]\tvalid_0's multi_logloss: 0.461788\n",
      "[1003]\tvalid_0's multi_logloss: 0.461781\n",
      "[1004]\tvalid_0's multi_logloss: 0.461764\n",
      "[1005]\tvalid_0's multi_logloss: 0.46176\n",
      "[1006]\tvalid_0's multi_logloss: 0.461786\n",
      "[1007]\tvalid_0's multi_logloss: 0.461752\n",
      "[1008]\tvalid_0's multi_logloss: 0.461762\n",
      "[1009]\tvalid_0's multi_logloss: 0.461746\n",
      "[1010]\tvalid_0's multi_logloss: 0.46176\n",
      "[1011]\tvalid_0's multi_logloss: 0.461772\n",
      "[1012]\tvalid_0's multi_logloss: 0.461754\n",
      "[1013]\tvalid_0's multi_logloss: 0.461741\n",
      "[1014]\tvalid_0's multi_logloss: 0.46178\n",
      "[1015]\tvalid_0's multi_logloss: 0.46178\n",
      "[1016]\tvalid_0's multi_logloss: 0.461741\n",
      "[1017]\tvalid_0's multi_logloss: 0.461753\n",
      "[1018]\tvalid_0's multi_logloss: 0.461729\n",
      "[1019]\tvalid_0's multi_logloss: 0.46172\n",
      "[1020]\tvalid_0's multi_logloss: 0.46169\n",
      "[1021]\tvalid_0's multi_logloss: 0.461654\n",
      "[1022]\tvalid_0's multi_logloss: 0.461632\n",
      "[1023]\tvalid_0's multi_logloss: 0.461626\n",
      "[1024]\tvalid_0's multi_logloss: 0.46161\n",
      "[1025]\tvalid_0's multi_logloss: 0.461581\n",
      "[1026]\tvalid_0's multi_logloss: 0.461621\n",
      "[1027]\tvalid_0's multi_logloss: 0.461598\n",
      "[1028]\tvalid_0's multi_logloss: 0.461574\n",
      "[1029]\tvalid_0's multi_logloss: 0.46159\n",
      "[1030]\tvalid_0's multi_logloss: 0.461584\n",
      "[1031]\tvalid_0's multi_logloss: 0.461594\n",
      "[1032]\tvalid_0's multi_logloss: 0.461564\n",
      "[1033]\tvalid_0's multi_logloss: 0.461543\n",
      "[1034]\tvalid_0's multi_logloss: 0.461561\n",
      "[1035]\tvalid_0's multi_logloss: 0.461566\n",
      "[1036]\tvalid_0's multi_logloss: 0.46158\n",
      "[1037]\tvalid_0's multi_logloss: 0.461547\n"
     ]
    },
    {
     "name": "stdout",
     "output_type": "stream",
     "text": [
      "[1038]\tvalid_0's multi_logloss: 0.461542\n",
      "[1039]\tvalid_0's multi_logloss: 0.461526\n",
      "[1040]\tvalid_0's multi_logloss: 0.461504\n",
      "[1041]\tvalid_0's multi_logloss: 0.461504\n",
      "[1042]\tvalid_0's multi_logloss: 0.461477\n",
      "[1043]\tvalid_0's multi_logloss: 0.461483\n",
      "[1044]\tvalid_0's multi_logloss: 0.461457\n",
      "[1045]\tvalid_0's multi_logloss: 0.46141\n",
      "[1046]\tvalid_0's multi_logloss: 0.461388\n",
      "[1047]\tvalid_0's multi_logloss: 0.461389\n",
      "[1048]\tvalid_0's multi_logloss: 0.46139\n",
      "[1049]\tvalid_0's multi_logloss: 0.461382\n",
      "[1050]\tvalid_0's multi_logloss: 0.461396\n",
      "[1051]\tvalid_0's multi_logloss: 0.461333\n",
      "[1052]\tvalid_0's multi_logloss: 0.461279\n",
      "[1053]\tvalid_0's multi_logloss: 0.461265\n",
      "[1054]\tvalid_0's multi_logloss: 0.461224\n",
      "[1055]\tvalid_0's multi_logloss: 0.461184\n",
      "[1056]\tvalid_0's multi_logloss: 0.461171\n",
      "[1057]\tvalid_0's multi_logloss: 0.461172\n",
      "[1058]\tvalid_0's multi_logloss: 0.461174\n",
      "[1059]\tvalid_0's multi_logloss: 0.461125\n",
      "[1060]\tvalid_0's multi_logloss: 0.461142\n",
      "[1061]\tvalid_0's multi_logloss: 0.461124\n",
      "[1062]\tvalid_0's multi_logloss: 0.461085\n",
      "[1063]\tvalid_0's multi_logloss: 0.461058\n",
      "[1064]\tvalid_0's multi_logloss: 0.461023\n",
      "[1065]\tvalid_0's multi_logloss: 0.460981\n",
      "[1066]\tvalid_0's multi_logloss: 0.46099\n",
      "[1067]\tvalid_0's multi_logloss: 0.460934\n",
      "[1068]\tvalid_0's multi_logloss: 0.460922\n",
      "[1069]\tvalid_0's multi_logloss: 0.460887\n",
      "[1070]\tvalid_0's multi_logloss: 0.460888\n",
      "[1071]\tvalid_0's multi_logloss: 0.460877\n",
      "[1072]\tvalid_0's multi_logloss: 0.460878\n",
      "[1073]\tvalid_0's multi_logloss: 0.460852\n",
      "[1074]\tvalid_0's multi_logloss: 0.460834\n",
      "[1075]\tvalid_0's multi_logloss: 0.460822\n",
      "[1076]\tvalid_0's multi_logloss: 0.460784\n",
      "[1077]\tvalid_0's multi_logloss: 0.460778\n",
      "[1078]\tvalid_0's multi_logloss: 0.46078\n",
      "[1079]\tvalid_0's multi_logloss: 0.460766\n",
      "[1080]\tvalid_0's multi_logloss: 0.460806\n",
      "[1081]\tvalid_0's multi_logloss: 0.460794\n",
      "[1082]\tvalid_0's multi_logloss: 0.460786\n",
      "[1083]\tvalid_0's multi_logloss: 0.460758\n",
      "[1084]\tvalid_0's multi_logloss: 0.460735\n",
      "[1085]\tvalid_0's multi_logloss: 0.46075\n",
      "[1086]\tvalid_0's multi_logloss: 0.460748\n",
      "[1087]\tvalid_0's multi_logloss: 0.460728\n",
      "[1088]\tvalid_0's multi_logloss: 0.460723\n",
      "[1089]\tvalid_0's multi_logloss: 0.460692\n",
      "[1090]\tvalid_0's multi_logloss: 0.460698\n",
      "[1091]\tvalid_0's multi_logloss: 0.460716\n",
      "[1092]\tvalid_0's multi_logloss: 0.46065\n",
      "[1093]\tvalid_0's multi_logloss: 0.460665\n",
      "[1094]\tvalid_0's multi_logloss: 0.460651\n",
      "[1095]\tvalid_0's multi_logloss: 0.460672\n",
      "[1096]\tvalid_0's multi_logloss: 0.460641\n",
      "[1097]\tvalid_0's multi_logloss: 0.460639\n",
      "[1098]\tvalid_0's multi_logloss: 0.460635\n",
      "[1099]\tvalid_0's multi_logloss: 0.460611\n",
      "[1100]\tvalid_0's multi_logloss: 0.460608\n",
      "[1101]\tvalid_0's multi_logloss: 0.460583\n",
      "[1102]\tvalid_0's multi_logloss: 0.460551\n",
      "[1103]\tvalid_0's multi_logloss: 0.460526\n",
      "[1104]\tvalid_0's multi_logloss: 0.460541\n",
      "[1105]\tvalid_0's multi_logloss: 0.460552\n",
      "[1106]\tvalid_0's multi_logloss: 0.460584\n",
      "[1107]\tvalid_0's multi_logloss: 0.460594\n",
      "[1108]\tvalid_0's multi_logloss: 0.46057\n",
      "[1109]\tvalid_0's multi_logloss: 0.460577\n",
      "[1110]\tvalid_0's multi_logloss: 0.460534\n",
      "[1111]\tvalid_0's multi_logloss: 0.460493\n",
      "[1112]\tvalid_0's multi_logloss: 0.460482\n",
      "[1113]\tvalid_0's multi_logloss: 0.460466\n",
      "[1114]\tvalid_0's multi_logloss: 0.460472\n",
      "[1115]\tvalid_0's multi_logloss: 0.46047\n",
      "[1116]\tvalid_0's multi_logloss: 0.460456\n",
      "[1117]\tvalid_0's multi_logloss: 0.460466\n",
      "[1118]\tvalid_0's multi_logloss: 0.460518\n",
      "[1119]\tvalid_0's multi_logloss: 0.460457\n",
      "[1120]\tvalid_0's multi_logloss: 0.460449\n",
      "[1121]\tvalid_0's multi_logloss: 0.460426\n",
      "[1122]\tvalid_0's multi_logloss: 0.460447\n",
      "[1123]\tvalid_0's multi_logloss: 0.460381\n",
      "[1124]\tvalid_0's multi_logloss: 0.460377\n",
      "[1125]\tvalid_0's multi_logloss: 0.460355\n",
      "[1126]\tvalid_0's multi_logloss: 0.460327\n",
      "[1127]\tvalid_0's multi_logloss: 0.460319\n",
      "[1128]\tvalid_0's multi_logloss: 0.460272\n",
      "[1129]\tvalid_0's multi_logloss: 0.460268\n",
      "[1130]\tvalid_0's multi_logloss: 0.460274\n",
      "[1131]\tvalid_0's multi_logloss: 0.460238\n",
      "[1132]\tvalid_0's multi_logloss: 0.460216\n",
      "[1133]\tvalid_0's multi_logloss: 0.46023\n",
      "[1134]\tvalid_0's multi_logloss: 0.460202\n",
      "[1135]\tvalid_0's multi_logloss: 0.460255\n",
      "[1136]\tvalid_0's multi_logloss: 0.460291\n",
      "[1137]\tvalid_0's multi_logloss: 0.460316\n",
      "[1138]\tvalid_0's multi_logloss: 0.460316\n",
      "[1139]\tvalid_0's multi_logloss: 0.46033\n",
      "[1140]\tvalid_0's multi_logloss: 0.460328\n",
      "[1141]\tvalid_0's multi_logloss: 0.460328\n",
      "[1142]\tvalid_0's multi_logloss: 0.460302\n",
      "[1143]\tvalid_0's multi_logloss: 0.460299\n",
      "[1144]\tvalid_0's multi_logloss: 0.460322\n",
      "[1145]\tvalid_0's multi_logloss: 0.460311\n",
      "[1146]\tvalid_0's multi_logloss: 0.460339\n",
      "[1147]\tvalid_0's multi_logloss: 0.460333\n",
      "[1148]\tvalid_0's multi_logloss: 0.460335\n",
      "[1149]\tvalid_0's multi_logloss: 0.460323\n",
      "[1150]\tvalid_0's multi_logloss: 0.46032\n",
      "[1151]\tvalid_0's multi_logloss: 0.460298\n",
      "[1152]\tvalid_0's multi_logloss: 0.460328\n",
      "[1153]\tvalid_0's multi_logloss: 0.460313\n",
      "[1154]\tvalid_0's multi_logloss: 0.460286\n",
      "[1155]\tvalid_0's multi_logloss: 0.460309\n",
      "[1156]\tvalid_0's multi_logloss: 0.460332\n",
      "[1157]\tvalid_0's multi_logloss: 0.46034\n",
      "[1158]\tvalid_0's multi_logloss: 0.460348\n",
      "[1159]\tvalid_0's multi_logloss: 0.460356\n",
      "[1160]\tvalid_0's multi_logloss: 0.460358\n",
      "[1161]\tvalid_0's multi_logloss: 0.46034\n",
      "[1162]\tvalid_0's multi_logloss: 0.460288\n",
      "[1163]\tvalid_0's multi_logloss: 0.460238\n",
      "[1164]\tvalid_0's multi_logloss: 0.460235\n",
      "[1165]\tvalid_0's multi_logloss: 0.460204\n",
      "[1166]\tvalid_0's multi_logloss: 0.460226\n",
      "[1167]\tvalid_0's multi_logloss: 0.460275\n",
      "[1168]\tvalid_0's multi_logloss: 0.460234\n",
      "[1169]\tvalid_0's multi_logloss: 0.460222\n",
      "[1170]\tvalid_0's multi_logloss: 0.460239\n",
      "[1171]\tvalid_0's multi_logloss: 0.460235\n",
      "[1172]\tvalid_0's multi_logloss: 0.460218\n",
      "[1173]\tvalid_0's multi_logloss: 0.460212\n",
      "[1174]\tvalid_0's multi_logloss: 0.460218\n",
      "[1175]\tvalid_0's multi_logloss: 0.460166\n",
      "[1176]\tvalid_0's multi_logloss: 0.460145\n",
      "[1177]\tvalid_0's multi_logloss: 0.460104\n",
      "[1178]\tvalid_0's multi_logloss: 0.460067\n",
      "[1179]\tvalid_0's multi_logloss: 0.460025\n",
      "[1180]\tvalid_0's multi_logloss: 0.459979\n",
      "[1181]\tvalid_0's multi_logloss: 0.459982\n",
      "[1182]\tvalid_0's multi_logloss: 0.459994\n",
      "[1183]\tvalid_0's multi_logloss: 0.459991\n",
      "[1184]\tvalid_0's multi_logloss: 0.460015\n",
      "[1185]\tvalid_0's multi_logloss: 0.460054\n",
      "[1186]\tvalid_0's multi_logloss: 0.460041\n",
      "[1187]\tvalid_0's multi_logloss: 0.460048\n",
      "[1188]\tvalid_0's multi_logloss: 0.46002\n",
      "[1189]\tvalid_0's multi_logloss: 0.460043\n",
      "[1190]\tvalid_0's multi_logloss: 0.460023\n",
      "[1191]\tvalid_0's multi_logloss: 0.459978\n",
      "[1192]\tvalid_0's multi_logloss: 0.459981\n",
      "[1193]\tvalid_0's multi_logloss: 0.459994\n",
      "[1194]\tvalid_0's multi_logloss: 0.460008\n",
      "[1195]\tvalid_0's multi_logloss: 0.459985\n",
      "[1196]\tvalid_0's multi_logloss: 0.459989\n",
      "[1197]\tvalid_0's multi_logloss: 0.460028\n",
      "[1198]\tvalid_0's multi_logloss: 0.459977\n",
      "[1199]\tvalid_0's multi_logloss: 0.459996\n",
      "[1200]\tvalid_0's multi_logloss: 0.459968\n",
      "[1201]\tvalid_0's multi_logloss: 0.459975\n",
      "[1202]\tvalid_0's multi_logloss: 0.45997\n",
      "[1203]\tvalid_0's multi_logloss: 0.45995\n",
      "[1204]\tvalid_0's multi_logloss: 0.459923\n",
      "[1205]\tvalid_0's multi_logloss: 0.459865\n",
      "[1206]\tvalid_0's multi_logloss: 0.459881\n",
      "[1207]\tvalid_0's multi_logloss: 0.459875\n",
      "[1208]\tvalid_0's multi_logloss: 0.45983\n",
      "[1209]\tvalid_0's multi_logloss: 0.459791\n",
      "[1210]\tvalid_0's multi_logloss: 0.459783\n",
      "[1211]\tvalid_0's multi_logloss: 0.459776\n",
      "[1212]\tvalid_0's multi_logloss: 0.459777\n",
      "[1213]\tvalid_0's multi_logloss: 0.459778\n",
      "[1214]\tvalid_0's multi_logloss: 0.459772\n",
      "[1215]\tvalid_0's multi_logloss: 0.459752\n",
      "[1216]\tvalid_0's multi_logloss: 0.459773\n",
      "[1217]\tvalid_0's multi_logloss: 0.45978\n",
      "[1218]\tvalid_0's multi_logloss: 0.459796\n",
      "[1219]\tvalid_0's multi_logloss: 0.459826\n",
      "[1220]\tvalid_0's multi_logloss: 0.459834\n",
      "[1221]\tvalid_0's multi_logloss: 0.459857\n",
      "[1222]\tvalid_0's multi_logloss: 0.459856\n",
      "[1223]\tvalid_0's multi_logloss: 0.45987\n",
      "[1224]\tvalid_0's multi_logloss: 0.459868\n",
      "[1225]\tvalid_0's multi_logloss: 0.459824\n",
      "[1226]\tvalid_0's multi_logloss: 0.459836\n",
      "[1227]\tvalid_0's multi_logloss: 0.45984\n",
      "[1228]\tvalid_0's multi_logloss: 0.459828\n",
      "[1229]\tvalid_0's multi_logloss: 0.459847\n",
      "[1230]\tvalid_0's multi_logloss: 0.459867\n",
      "[1231]\tvalid_0's multi_logloss: 0.459862\n",
      "[1232]\tvalid_0's multi_logloss: 0.459891\n",
      "[1233]\tvalid_0's multi_logloss: 0.459903\n",
      "[1234]\tvalid_0's multi_logloss: 0.45993\n",
      "[1235]\tvalid_0's multi_logloss: 0.459948\n",
      "[1236]\tvalid_0's multi_logloss: 0.459919\n",
      "[1237]\tvalid_0's multi_logloss: 0.459915\n",
      "[1238]\tvalid_0's multi_logloss: 0.45994\n",
      "[1239]\tvalid_0's multi_logloss: 0.459951\n",
      "[1240]\tvalid_0's multi_logloss: 0.459984\n",
      "[1241]\tvalid_0's multi_logloss: 0.460003\n"
     ]
    },
    {
     "name": "stdout",
     "output_type": "stream",
     "text": [
      "[1242]\tvalid_0's multi_logloss: 0.459997\n",
      "[1243]\tvalid_0's multi_logloss: 0.460017\n",
      "[1244]\tvalid_0's multi_logloss: 0.460035\n",
      "[1245]\tvalid_0's multi_logloss: 0.460075\n",
      "[1246]\tvalid_0's multi_logloss: 0.460091\n",
      "[1247]\tvalid_0's multi_logloss: 0.4601\n",
      "[1248]\tvalid_0's multi_logloss: 0.460105\n",
      "[1249]\tvalid_0's multi_logloss: 0.460097\n",
      "[1250]\tvalid_0's multi_logloss: 0.460127\n",
      "[1251]\tvalid_0's multi_logloss: 0.460161\n",
      "[1252]\tvalid_0's multi_logloss: 0.460171\n",
      "[1253]\tvalid_0's multi_logloss: 0.46021\n",
      "[1254]\tvalid_0's multi_logloss: 0.460244\n",
      "[1255]\tvalid_0's multi_logloss: 0.460241\n",
      "[1256]\tvalid_0's multi_logloss: 0.460274\n",
      "[1257]\tvalid_0's multi_logloss: 0.4603\n",
      "[1258]\tvalid_0's multi_logloss: 0.460326\n",
      "[1259]\tvalid_0's multi_logloss: 0.460365\n",
      "[1260]\tvalid_0's multi_logloss: 0.460387\n",
      "[1261]\tvalid_0's multi_logloss: 0.460337\n",
      "[1262]\tvalid_0's multi_logloss: 0.46033\n",
      "[1263]\tvalid_0's multi_logloss: 0.460317\n",
      "[1264]\tvalid_0's multi_logloss: 0.460268\n",
      "[1265]\tvalid_0's multi_logloss: 0.460291\n",
      "[1266]\tvalid_0's multi_logloss: 0.460298\n",
      "[1267]\tvalid_0's multi_logloss: 0.460296\n",
      "[1268]\tvalid_0's multi_logloss: 0.460264\n",
      "[1269]\tvalid_0's multi_logloss: 0.460199\n",
      "[1270]\tvalid_0's multi_logloss: 0.460197\n",
      "[1271]\tvalid_0's multi_logloss: 0.460215\n",
      "[1272]\tvalid_0's multi_logloss: 0.460193\n",
      "[1273]\tvalid_0's multi_logloss: 0.460191\n",
      "[1274]\tvalid_0's multi_logloss: 0.460201\n",
      "[1275]\tvalid_0's multi_logloss: 0.46025\n",
      "[1276]\tvalid_0's multi_logloss: 0.46024\n",
      "[1277]\tvalid_0's multi_logloss: 0.460227\n",
      "[1278]\tvalid_0's multi_logloss: 0.460246\n",
      "[1279]\tvalid_0's multi_logloss: 0.460277\n",
      "[1280]\tvalid_0's multi_logloss: 0.460268\n",
      "[1281]\tvalid_0's multi_logloss: 0.460261\n",
      "[1282]\tvalid_0's multi_logloss: 0.46028\n",
      "[1283]\tvalid_0's multi_logloss: 0.460297\n",
      "[1284]\tvalid_0's multi_logloss: 0.460311\n",
      "[1285]\tvalid_0's multi_logloss: 0.46032\n",
      "[1286]\tvalid_0's multi_logloss: 0.460327\n",
      "[1287]\tvalid_0's multi_logloss: 0.460349\n",
      "[1288]\tvalid_0's multi_logloss: 0.460383\n",
      "[1289]\tvalid_0's multi_logloss: 0.460439\n",
      "[1290]\tvalid_0's multi_logloss: 0.460443\n",
      "[1291]\tvalid_0's multi_logloss: 0.460446\n",
      "[1292]\tvalid_0's multi_logloss: 0.460451\n",
      "[1293]\tvalid_0's multi_logloss: 0.460449\n",
      "[1294]\tvalid_0's multi_logloss: 0.46044\n",
      "[1295]\tvalid_0's multi_logloss: 0.460458\n",
      "[1296]\tvalid_0's multi_logloss: 0.460489\n",
      "[1297]\tvalid_0's multi_logloss: 0.460553\n",
      "[1298]\tvalid_0's multi_logloss: 0.460565\n",
      "[1299]\tvalid_0's multi_logloss: 0.460565\n",
      "[1300]\tvalid_0's multi_logloss: 0.460566\n",
      "[1301]\tvalid_0's multi_logloss: 0.460593\n",
      "[1302]\tvalid_0's multi_logloss: 0.460602\n",
      "[1303]\tvalid_0's multi_logloss: 0.460606\n",
      "[1304]\tvalid_0's multi_logloss: 0.460574\n",
      "[1305]\tvalid_0's multi_logloss: 0.460571\n",
      "[1306]\tvalid_0's multi_logloss: 0.460591\n",
      "[1307]\tvalid_0's multi_logloss: 0.460654\n",
      "[1308]\tvalid_0's multi_logloss: 0.460681\n",
      "[1309]\tvalid_0's multi_logloss: 0.460664\n",
      "[1310]\tvalid_0's multi_logloss: 0.460669\n",
      "[1311]\tvalid_0's multi_logloss: 0.460679\n",
      "[1312]\tvalid_0's multi_logloss: 0.460734\n",
      "[1313]\tvalid_0's multi_logloss: 0.460762\n",
      "[1314]\tvalid_0's multi_logloss: 0.460816\n",
      "[1315]\tvalid_0's multi_logloss: 0.46081\n",
      "[1316]\tvalid_0's multi_logloss: 0.460867\n",
      "[1317]\tvalid_0's multi_logloss: 0.460885\n",
      "[1318]\tvalid_0's multi_logloss: 0.460938\n",
      "[1319]\tvalid_0's multi_logloss: 0.460987\n",
      "[1320]\tvalid_0's multi_logloss: 0.461068\n",
      "[1321]\tvalid_0's multi_logloss: 0.46103\n",
      "[1322]\tvalid_0's multi_logloss: 0.460961\n",
      "[1323]\tvalid_0's multi_logloss: 0.460961\n",
      "[1324]\tvalid_0's multi_logloss: 0.460931\n",
      "[1325]\tvalid_0's multi_logloss: 0.460919\n",
      "[1326]\tvalid_0's multi_logloss: 0.460926\n",
      "[1327]\tvalid_0's multi_logloss: 0.460881\n",
      "[1328]\tvalid_0's multi_logloss: 0.460845\n",
      "[1329]\tvalid_0's multi_logloss: 0.460842\n",
      "[1330]\tvalid_0's multi_logloss: 0.4608\n",
      "[1331]\tvalid_0's multi_logloss: 0.460798\n",
      "[1332]\tvalid_0's multi_logloss: 0.460797\n",
      "[1333]\tvalid_0's multi_logloss: 0.46077\n",
      "[1334]\tvalid_0's multi_logloss: 0.460763\n",
      "[1335]\tvalid_0's multi_logloss: 0.460749\n",
      "[1336]\tvalid_0's multi_logloss: 0.460785\n",
      "[1337]\tvalid_0's multi_logloss: 0.46077\n",
      "[1338]\tvalid_0's multi_logloss: 0.460768\n",
      "[1339]\tvalid_0's multi_logloss: 0.460742\n",
      "[1340]\tvalid_0's multi_logloss: 0.460771\n",
      "[1341]\tvalid_0's multi_logloss: 0.460726\n",
      "[1342]\tvalid_0's multi_logloss: 0.460782\n",
      "[1343]\tvalid_0's multi_logloss: 0.460845\n",
      "[1344]\tvalid_0's multi_logloss: 0.460842\n",
      "[1345]\tvalid_0's multi_logloss: 0.460852\n",
      "[1346]\tvalid_0's multi_logloss: 0.460874\n",
      "[1347]\tvalid_0's multi_logloss: 0.460882\n",
      "[1348]\tvalid_0's multi_logloss: 0.460932\n",
      "[1349]\tvalid_0's multi_logloss: 0.460922\n",
      "[1350]\tvalid_0's multi_logloss: 0.460938\n",
      "[1351]\tvalid_0's multi_logloss: 0.460938\n",
      "[1352]\tvalid_0's multi_logloss: 0.460956\n",
      "[1353]\tvalid_0's multi_logloss: 0.460973\n",
      "[1354]\tvalid_0's multi_logloss: 0.460991\n",
      "[1355]\tvalid_0's multi_logloss: 0.461068\n",
      "[1356]\tvalid_0's multi_logloss: 0.461058\n",
      "[1357]\tvalid_0's multi_logloss: 0.461142\n",
      "[1358]\tvalid_0's multi_logloss: 0.461133\n",
      "[1359]\tvalid_0's multi_logloss: 0.461167\n",
      "[1360]\tvalid_0's multi_logloss: 0.46119\n",
      "[1361]\tvalid_0's multi_logloss: 0.461214\n",
      "[1362]\tvalid_0's multi_logloss: 0.461201\n",
      "[1363]\tvalid_0's multi_logloss: 0.461252\n",
      "[1364]\tvalid_0's multi_logloss: 0.461224\n",
      "[1365]\tvalid_0's multi_logloss: 0.461246\n",
      "[1366]\tvalid_0's multi_logloss: 0.461249\n",
      "[1367]\tvalid_0's multi_logloss: 0.46126\n",
      "[1368]\tvalid_0's multi_logloss: 0.461262\n",
      "[1369]\tvalid_0's multi_logloss: 0.461312\n",
      "[1370]\tvalid_0's multi_logloss: 0.461317\n",
      "[1371]\tvalid_0's multi_logloss: 0.461366\n",
      "[1372]\tvalid_0's multi_logloss: 0.461399\n",
      "[1373]\tvalid_0's multi_logloss: 0.461415\n",
      "[1374]\tvalid_0's multi_logloss: 0.461397\n",
      "[1375]\tvalid_0's multi_logloss: 0.461424\n",
      "[1376]\tvalid_0's multi_logloss: 0.461473\n",
      "[1377]\tvalid_0's multi_logloss: 0.461493\n",
      "[1378]\tvalid_0's multi_logloss: 0.461527\n",
      "[1379]\tvalid_0's multi_logloss: 0.461551\n",
      "[1380]\tvalid_0's multi_logloss: 0.461571\n",
      "[1381]\tvalid_0's multi_logloss: 0.461566\n",
      "[1382]\tvalid_0's multi_logloss: 0.461591\n",
      "[1383]\tvalid_0's multi_logloss: 0.461542\n",
      "[1384]\tvalid_0's multi_logloss: 0.461548\n",
      "[1385]\tvalid_0's multi_logloss: 0.461514\n",
      "[1386]\tvalid_0's multi_logloss: 0.461565\n",
      "[1387]\tvalid_0's multi_logloss: 0.461587\n",
      "[1388]\tvalid_0's multi_logloss: 0.461563\n",
      "[1389]\tvalid_0's multi_logloss: 0.461581\n",
      "[1390]\tvalid_0's multi_logloss: 0.461598\n",
      "[1391]\tvalid_0's multi_logloss: 0.461624\n",
      "[1392]\tvalid_0's multi_logloss: 0.461653\n",
      "[1393]\tvalid_0's multi_logloss: 0.46168\n",
      "[1394]\tvalid_0's multi_logloss: 0.461716\n",
      "[1395]\tvalid_0's multi_logloss: 0.461742\n",
      "[1396]\tvalid_0's multi_logloss: 0.461769\n",
      "[1397]\tvalid_0's multi_logloss: 0.461763\n",
      "[1398]\tvalid_0's multi_logloss: 0.461807\n",
      "[1399]\tvalid_0's multi_logloss: 0.461841\n",
      "[1400]\tvalid_0's multi_logloss: 0.461884\n",
      "[1401]\tvalid_0's multi_logloss: 0.461822\n",
      "[1402]\tvalid_0's multi_logloss: 0.461835\n",
      "[1403]\tvalid_0's multi_logloss: 0.46185\n",
      "[1404]\tvalid_0's multi_logloss: 0.461842\n",
      "[1405]\tvalid_0's multi_logloss: 0.461872\n",
      "[1406]\tvalid_0's multi_logloss: 0.46188\n",
      "[1407]\tvalid_0's multi_logloss: 0.461864\n",
      "[1408]\tvalid_0's multi_logloss: 0.461878\n",
      "[1409]\tvalid_0's multi_logloss: 0.461847\n",
      "[1410]\tvalid_0's multi_logloss: 0.461859\n",
      "[1411]\tvalid_0's multi_logloss: 0.461859\n",
      "[1412]\tvalid_0's multi_logloss: 0.461859\n",
      "[1413]\tvalid_0's multi_logloss: 0.461904\n",
      "[1414]\tvalid_0's multi_logloss: 0.461893\n",
      "[1415]\tvalid_0's multi_logloss: 0.46187\n",
      "Early stopping, best iteration is:\n",
      "[1215]\tvalid_0's multi_logloss: 0.459752\n"
     ]
    }
   ],
   "source": [
    "parameters = {\n",
    "    #'application': 'sigmoid',\n",
    "    'objective': 'multiclass',\n",
    "    'metric': 'multi_logloss',\n",
    "    'is_unbalance': 'true',\n",
    "    'num_class':9,\n",
    "    'boosting': 'gbdt',\n",
    "    'num_leaves': 31,\n",
    "    'feature_fraction': 0.5,\n",
    "    'bagging_fraction': 0.5,\n",
    "    'bagging_freq': 20,\n",
    "    'learning_rate': 0.03,\n",
    "    'verbose': 0\n",
    "}\n",
    "\n",
    "train_data = lgbm.Dataset(X_train, label=y_train)\n",
    "test_data = lgbm.Dataset(X_test, label=y_test)\n",
    "\n",
    "model2 = lgbm.train(parameters,\n",
    "                       train_data,\n",
    "                       valid_sets=test_data,\n",
    "                       num_boost_round=5000,\n",
    "                       early_stopping_rounds=200)"
   ]
  },
  {
   "cell_type": "code",
   "execution_count": null,
   "metadata": {},
   "outputs": [],
   "source": [
    "4597"
   ]
  },
  {
   "cell_type": "code",
   "execution_count": 133,
   "metadata": {},
   "outputs": [
    {
     "name": "stderr",
     "output_type": "stream",
     "text": [
      "/Users/petar.hristov/anaconda3/lib/python3.7/site-packages/lightgbm/engine.py:148: UserWarning: Found `num_iterations` in params. Will use it instead of argument\n",
      "  warnings.warn(\"Found `{}` in params. Will use it instead of argument\".format(alias))\n"
     ]
    },
    {
     "name": "stdout",
     "output_type": "stream",
     "text": [
      "Train set error  0.13527320124529696\n",
      "Test set error  0.47433457033818743\n"
     ]
    }
   ],
   "source": [
    "#LightGBM\n",
    "clf_lgbm4 = lgbm.LGBMClassifier(num_leaves=150, learning_rate=0.05, num_iterations=200).fit(X_train, y_train)\n",
    "print('Train set error ',sklearn.metrics.log_loss(y_train, clf_lgbm4.predict_proba(X_train)))\n",
    "print('Test set error ',sklearn.metrics.log_loss(y_test,clf_lgbm4.predict_proba(X_test)))"
   ]
  },
  {
   "cell_type": "code",
   "execution_count": null,
   "metadata": {},
   "outputs": [],
   "source": [
    "47957"
   ]
  },
  {
   "cell_type": "code",
   "execution_count": 14,
   "metadata": {},
   "outputs": [],
   "source": [
    "#create features for our stack\n",
    "#feat_size = len(y_test)\n",
    "#X_stack_feat = np.hstack((logistic_pred_stack.reshape((feat_size,1)),rf_pred_stack.reshape((feat_size,1)),xgb_pred_stack.reshape((feat_size,1))))\n",
    "#X_test_feat = np.hstack((logistic_pred_test.reshape((feat_size,1)),rf_pred_test.reshape((feat_size,1)),xgb_pred_test.reshape((feat_size,1))))"
   ]
  },
  {
   "cell_type": "code",
   "execution_count": 165,
   "metadata": {},
   "outputs": [],
   "source": [
    "X_stack_feat=np.column_stack((clf_rf.predict_proba(X_stack),clf_logistic.predict_proba(X_stack),xgb_pred_stack,xgb2_pred_stack,xgb3_pred_stack,xgb4_pred_stack,clf_lgbm.predict_proba(X_stack),clf_lgbm2.predict_proba(X_stack),clf_lgbm3.predict_proba(X_stack),clf_lgbm4.predict_proba(X_stack),model2.predict(X_stack)))\n",
    "X_test_feat=np.column_stack((clf_rf.predict_proba(X_test),clf_logistic.predict_proba(X_test),xgb_pred_test,xgb2_pred_test,xgb3_pred_test,xgb4_pred_test,clf_lgbm.predict_proba(X_test),clf_lgbm2.predict_proba(X_test),clf_lgbm3.predict_proba(X_test),clf_lgbm4.predict_proba(X_test),model2.predict(X_test)))\n"
   ]
  },
  {
   "cell_type": "code",
   "execution_count": 74,
   "metadata": {},
   "outputs": [],
   "source": [
    "X_stack_feat=np.column_stack((clf_lgbm.predict_proba(X_stack),clf_lgbm2.predict_proba(X_stack),clf_lgbm3.predict_proba(X_stack),xgb4_pred_stack))\n",
    "X_test_feat=np.column_stack((clf_lgbm.predict_proba(X_test),clf_lgbm2.predict_proba(X_test),clf_lgbm3.predict_proba(X_test),xgb4_pred_test))\n",
    "\n"
   ]
  },
  {
   "cell_type": "code",
   "execution_count": 34,
   "metadata": {},
   "outputs": [],
   "source": [
    "#stack them using a linear layer\n",
    "stack_model = sklearn.linear_model.LogisticRegression(max_iter=200) #penalty='none',solver='newton-cg')\n",
    "#stack_model = sklearn.svm.SVC(probability=True)\n",
    "#stack_model = sklearn.svm.SVC(probability=True)\n",
    "stack_model.fit(X_stack_feat,y_stack)\n",
    "final_proba = stack_model.predict_proba(X_test_feat)"
   ]
  },
  {
   "cell_type": "code",
   "execution_count": 166,
   "metadata": {},
   "outputs": [
    {
     "name": "stdout",
     "output_type": "stream",
     "text": [
      "0.3462388454808798\n",
      "0.4560690215149626\n"
     ]
    }
   ],
   "source": [
    "dtrain1=xgb.DMatrix(X_stack_feat,label=y_stack)\n",
    "dtest1=xgb.DMatrix(X_test_feat,label=y_test)\n",
    "\n",
    "param = {'max_depth':4, 'eta':0.05, 'objective':'multi:softprob', 'num_class': 9,'gamma': 3}\n",
    "num_round = 200\n",
    "bst = xgb.train(param, dtrain1, num_round)\n",
    "\n",
    "print(sklearn.metrics.log_loss(y_stack, bst.predict(dtrain1)))\n",
    "print(sklearn.metrics.log_loss(y_test, bst.predict(dtest1)))"
   ]
  },
  {
   "cell_type": "code",
   "execution_count": null,
   "metadata": {},
   "outputs": [],
   "source": [
    "4653 #4589 without lgbm at 4597"
   ]
  },
  {
   "cell_type": "code",
   "execution_count": 171,
   "metadata": {},
   "outputs": [
    {
     "data": {
      "text/plain": [
       "XGBClassifier(base_score=0.5, booster='gbtree', colsample_bylevel=1,\n",
       "              colsample_bynode=1, colsample_bytree=1, colsamplebytree=0.8,\n",
       "              eta=0.0199526231496888, gamma=1.7, learning_rate=0.1,\n",
       "              learningrate=0.0825, max_delta_step=0, max_depth=3, maxdepth=110,\n",
       "              min_child_weight=1, minchildweight=1.5, missing=None,\n",
       "              n_estimators=100, n_jobs=1, nthread=None, num_boost_round=4500,\n",
       "              objective='multi:softprob', random_state=0, reg_alpha=0,\n",
       "              reg_lambda=1, scale_pos_weight=1, seed=42, silent=None,\n",
       "              subsample=0.8, verbosity=1)"
      ]
     },
     "execution_count": 171,
     "metadata": {},
     "output_type": "execute_result"
    }
   ],
   "source": [
    "some_model=xgb.XGBClassifier(colsamplebytree=0.8, gamma=1.7, \n",
    "learningrate=0.0825, eta=10**(-1.7), maxdepth=110, \n",
    "minchildweight=1.5,\n",
    "objective='multi:softprob', seed=42,subsample=0.8, num_boost_round=4500)\n",
    "\n",
    "some_model.fit(X_train,y_train)"
   ]
  },
  {
   "cell_type": "code",
   "execution_count": 172,
   "metadata": {},
   "outputs": [
    {
     "name": "stdout",
     "output_type": "stream",
     "text": [
      "0.6391703847051442\n"
     ]
    }
   ],
   "source": [
    "print(sklearn.metrics.log_loss(y_test, some_model.predict_proba(X_test)))"
   ]
  },
  {
   "cell_type": "markdown",
   "metadata": {},
   "source": [
    "# Grid search"
   ]
  },
  {
   "cell_type": "code",
   "execution_count": 83,
   "metadata": {},
   "outputs": [],
   "source": [
    "num_round=150\n",
    "param = [{'max_depth':4, 'eta':0.02, 'objective':'multi:softprob', 'num_class': 9, 'n_estimators': 400,\n",
    "         'subsample': 0.8, 'gamma': 1, 'min_child_weight': 0.8, 'colsample_bylevel': 0.8,\n",
    "        'colsample_bytree': 0.8, },\n",
    "         {'max_depth':4, 'eta':0.1, 'objective':'multi:softprob', 'num_class': 9, 'n_estimators': 400,\n",
    "         'subsample': 0.8, 'gamma': 0.8, 'min_child_weight': 0.8, 'colsample_bylevel': 0.8,\n",
    "        'colsample_bytree': 0.8, },\n",
    "         {'max_depth':7, 'eta':0.1, 'objective':'multi:softprob', 'num_class': 9, 'n_estimators': 400,\n",
    "         'subsample': 0.8, 'gamma': 1, 'min_child_weight': 0.8, 'colsample_bylevel': 0.8,\n",
    "        'colsample_bytree': 0.8, },\n",
    "         {'max_depth':9, 'eta':0.1, 'objective':'multi:softprob', 'num_class': 9, 'n_estimators': 600,\n",
    "         'subsample': 0.8, 'gamma': 1, 'min_child_weight': 0.8, 'colsample_bylevel': 0.8,\n",
    "        'colsample_bytree': 0.8, }]\n",
    "list_class=[]\n",
    "for i in param:\n",
    "    list_class.append(xgb.train(i,dtrain1,num_round))"
   ]
  },
  {
   "cell_type": "code",
   "execution_count": 85,
   "metadata": {},
   "outputs": [
    {
     "name": "stdout",
     "output_type": "stream",
     "text": [
      "0.5421125721770358\n",
      "0.46967874023492445\n",
      "0.48613076667306643\n",
      "0.4904737766782054\n"
     ]
    }
   ],
   "source": [
    "for i in range(4):\n",
    "    print(sklearn.metrics.log_loss(y_test, list_class[i].predict(dtest1)))"
   ]
  },
  {
   "cell_type": "code",
   "execution_count": null,
   "metadata": {},
   "outputs": [],
   "source": [
    "4682"
   ]
  },
  {
   "cell_type": "code",
   "execution_count": 35,
   "metadata": {},
   "outputs": [
    {
     "data": {
      "text/plain": [
       "0.5012706479395326"
      ]
     },
     "execution_count": 35,
     "metadata": {},
     "output_type": "execute_result"
    }
   ],
   "source": [
    "sklearn.metrics.log_loss(y_test, final_proba)"
   ]
  }
 ],
 "metadata": {
  "kernelspec": {
   "display_name": "Python 3",
   "language": "python",
   "name": "python3"
  },
  "language_info": {
   "codemirror_mode": {
    "name": "ipython",
    "version": 3
   },
   "file_extension": ".py",
   "mimetype": "text/x-python",
   "name": "python",
   "nbconvert_exporter": "python",
   "pygments_lexer": "ipython3",
   "version": "3.7.3"
  }
 },
 "nbformat": 4,
 "nbformat_minor": 2
}
